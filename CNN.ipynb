{
  "nbformat": 4,
  "nbformat_minor": 0,
  "metadata": {
    "colab": {
      "provenance": [],
      "gpuType": "T4"
    },
    "kernelspec": {
      "name": "python3",
      "display_name": "Python 3"
    },
    "language_info": {
      "name": "python"
    },
    "accelerator": "GPU"
  },
  "cells": [
    {
      "cell_type": "code",
      "source": [
        "import os\n",
        "import torch\n",
        "from torch.utils.data import DataLoader, Dataset\n",
        "from torchvision import transforms\n",
        "from PIL import Image\n",
        "from tqdm import tqdm\n",
        "\n",
        "# Custom dataset class for loading images\n",
        "class ImageDataset(Dataset):\n",
        "    def __init__(self, real_dir, fake_dir, transform=None):\n",
        "        self.real_dir = real_dir\n",
        "        self.fake_dir = fake_dir\n",
        "        self.transform = transform\n",
        "\n",
        "        # Get image paths for real and fake images\n",
        "        self.real_images = os.listdir(real_dir)\n",
        "        self.fake_images = os.listdir(fake_dir)\n",
        "\n",
        "        # Create full paths for the images and assign labels\n",
        "        self.image_paths = [os.path.join(real_dir, img) for img in self.real_images] + \\\n",
        "                           [os.path.join(fake_dir, img) for img in self.fake_images]\n",
        "\n",
        "        # 0 for real, 1 for fake\n",
        "        self.labels = [0] * len(self.real_images) + [1] * len(self.fake_images)\n",
        "\n",
        "    def __len__(self):\n",
        "        return len(self.image_paths)\n",
        "\n",
        "    def __getitem__(self, idx):\n",
        "        image_path = self.image_paths[idx]\n",
        "        label = self.labels[idx]\n",
        "        image = Image.open(image_path).convert(\"RGB\")\n",
        "\n",
        "        if self.transform:\n",
        "            image = self.transform(image)\n",
        "\n",
        "        return image, label\n",
        "\n",
        "from torchvision import transforms\n",
        "\n",
        "# Enhanced Data Augmentation for Training\n",
        "train_transform = transforms.Compose([\n",
        "    transforms.Resize((128, 128)),  # Resizes images to 128x128 for faster training\n",
        "    transforms.RandomHorizontalFlip(),\n",
        "    transforms.RandomRotation(10),\n",
        "    transforms.ColorJitter(brightness=0.2, contrast=0.2, saturation=0.2, hue=0.1),\n",
        "    transforms.ToTensor(),\n",
        "    transforms.Normalize([0.485, 0.456, 0.406], [0.229, 0.224, 0.225])\n",
        "])\n",
        "\n",
        "val_test_transform = transforms.Compose([\n",
        "    transforms.Resize((128, 128)),\n",
        "    transforms.ToTensor(),\n",
        "    transforms.Normalize([0.485, 0.456, 0.406], [0.229, 0.224, 0.225])\n",
        "])\n",
        "\n",
        "from sklearn.model_selection import train_test_split\n",
        "\n",
        "# Defining paths to real and fake image directories\n",
        "real_dir = 'final_cleaned_dataset/real'\n",
        "fake_dir = 'final_cleaned_dataset/fake'\n",
        "\n",
        "# Creating the full dataset\n",
        "full_dataset = ImageDataset(real_dir, fake_dir, transform=train_transform)\n",
        "\n",
        "# Getting dataset length\n",
        "dataset_size = len(full_dataset)\n",
        "\n",
        "# Splitting into 70% train and 30% for val+test\n",
        "train_size = int(0.7 * dataset_size)\n",
        "val_test_size = dataset_size - train_size\n",
        "\n",
        "# Now spliting val+test into 15% val and 15% test\n",
        "val_size = int(0.5 * val_test_size)\n",
        "test_size = val_test_size - val_size\n",
        "\n",
        "# Creating train, val, and test sets\n",
        "train_dataset, val_test_dataset = torch.utils.data.random_split(full_dataset, [train_size, val_test_size])\n",
        "val_dataset, test_dataset = torch.utils.data.random_split(val_test_dataset, [val_size, test_size])\n",
        "\n",
        "# Creating DataLoaders for each set\n",
        "train_loader = DataLoader(train_dataset, batch_size=32, shuffle=True)\n",
        "val_loader = DataLoader(val_dataset, batch_size=32, shuffle=False)\n",
        "test_loader = DataLoader(test_dataset, batch_size=32, shuffle=False)\n",
        "\n",
        "# Defining the CNN Model\n",
        "class CNNModel(torch.nn.Module):\n",
        "    def __init__(self):\n",
        "        super(CNNModel, self).__init__()\n",
        "\n",
        "        self.conv1 = torch.nn.Conv2d(in_channels=3, out_channels=32, kernel_size=3, stride=1, padding=1)\n",
        "        self.conv2 = torch.nn.Conv2d(in_channels=32, out_channels=64, kernel_size=3, stride=1, padding=1)\n",
        "        self.conv3 = torch.nn.Conv2d(in_channels=64, out_channels=128, kernel_size=3, stride=1, padding=1)\n",
        "\n",
        "        self.pool = torch.nn.MaxPool2d(kernel_size=2, stride=2, padding=0)\n",
        "\n",
        "        self.fc1 = torch.nn.Linear(128 * 16 * 16, 512)\n",
        "        self.fc2 = torch.nn.Linear(512, 128)\n",
        "        self.fc3 = torch.nn.Linear(128, 2)  # Binary classification: real vs fake\n",
        "\n",
        "        self.dropout = torch.nn.Dropout(0.5)\n",
        "\n",
        "    def forward(self, x):\n",
        "        x = self.pool(torch.nn.functional.relu(self.conv1(x)))  # Conv Layer 1 with ReLU + Pooling\n",
        "        x = self.pool(torch.nn.functional.relu(self.conv2(x)))  # Conv Layer 2 with ReLU + Pooling\n",
        "        x = self.pool(torch.nn.functional.relu(self.conv3(x)))  # Conv Layer 3 with ReLU + Pooling\n",
        "\n",
        "        x = x.view(-1, 128 * 16 * 16)  # Flatten the output for fully connected layers\n",
        "\n",
        "        x = self.dropout(torch.nn.functional.relu(self.fc1(x)))  # FC Layer 1 with ReLU + Dropout\n",
        "        x = self.dropout(torch.nn.functional.relu(self.fc2(x)))  # FC Layer 2 with ReLU + Dropout\n",
        "        x = self.fc3(x)  # Final output layer\n",
        "\n",
        "        return x\n",
        "\n",
        "# Initializing the model\n",
        "model = CNNModel()\n",
        "\n",
        "# Moving the model to the GPU\n",
        "device = torch.device(\"mps\" if torch.backends.mps.is_available() else \"cpu\")\n",
        "model.to(device)\n",
        "\n",
        "import torch.optim as optim\n",
        "import torch.nn as nn\n",
        "import matplotlib.pyplot as plt\n",
        "from sklearn.metrics import precision_recall_fscore_support, confusion_matrix\n",
        "\n",
        "def train_model(\n",
        "    model,            # The PyTorch model to train\n",
        "    train_loader,     # DataLoader for training data\n",
        "    val_loader,       # DataLoader for validation data\n",
        "    device,           # Device (cpu, mps, or cuda)\n",
        "    num_epochs=10,    # Number of epochs to train for\n",
        "    lr=1e-4,          # Learning rate\n",
        "    model_save_path='best_cnn_model.pth'  # Path to save the best model\n",
        "):\n",
        "    # Define the optimizer and loss function\n",
        "    optimizer = optim.Adam(model.parameters(), lr=lr)\n",
        "    loss_fn = nn.CrossEntropyLoss()  # Cross-entropy loss for binary classification\n",
        "\n",
        "    # Lists to store metrics\n",
        "    train_losses = []\n",
        "    val_losses = []\n",
        "    train_accuracies = []\n",
        "    val_accuracies = []\n",
        "\n",
        "    best_val_recall = 0.0  # To track the model with the best recall\n",
        "\n",
        "    for epoch in range(num_epochs):\n",
        "        model.train()  # Set model to training mode\n",
        "        running_loss = 0.0\n",
        "        correct_predictions = 0\n",
        "        total_samples = 0\n",
        "\n",
        "        # Training loop with tqdm progress bar\n",
        "        for images, labels in tqdm(train_loader, desc=f\"Epoch {epoch+1}/{num_epochs} [Training]\"):\n",
        "            images, labels = images.to(device), labels.to(device)\n",
        "\n",
        "            optimizer.zero_grad()  # Zero the gradients\n",
        "\n",
        "            # Forward pass\n",
        "            outputs = model(images)\n",
        "            loss = loss_fn(outputs, labels)\n",
        "\n",
        "            # Backward pass and optimize\n",
        "            loss.backward()\n",
        "            optimizer.step()\n",
        "\n",
        "            # Track loss and accuracy\n",
        "            running_loss += loss.item() * images.size(0)\n",
        "            _, predicted = torch.max(outputs, 1)\n",
        "            correct_predictions += (predicted == labels).sum().item()\n",
        "            total_samples += labels.size(0)\n",
        "\n",
        "        # Calculate average loss and accuracy for the epoch\n",
        "        epoch_train_loss = running_loss / total_samples\n",
        "        epoch_train_accuracy = correct_predictions / total_samples\n",
        "        train_losses.append(epoch_train_loss)\n",
        "        train_accuracies.append(epoch_train_accuracy)\n",
        "\n",
        "        # Validation loop\n",
        "        model.eval()\n",
        "        val_loss = 0.0\n",
        "        val_correct_predictions = 0\n",
        "        val_total_samples = 0\n",
        "        all_labels = []\n",
        "        all_predictions = []\n",
        "        with torch.no_grad():\n",
        "            for val_images, val_labels in tqdm(val_loader, desc=f\"Epoch {epoch+1}/{num_epochs} [Validation]\"):\n",
        "                val_images, val_labels = val_images.to(device), val_labels.to(device)\n",
        "\n",
        "                val_outputs = model(val_images)\n",
        "                loss = loss_fn(val_outputs, val_labels)\n",
        "\n",
        "                # Track validation loss and accuracy\n",
        "                val_loss += loss.item() * val_images.size(0)\n",
        "                _, val_predicted = torch.max(val_outputs, 1)\n",
        "                val_correct_predictions += (val_predicted == val_labels).sum().item()\n",
        "                val_total_samples += val_labels.size(0)\n",
        "\n",
        "                # Collect labels and predictions for metrics calculation\n",
        "                all_labels.extend(val_labels.cpu().numpy())\n",
        "                all_predictions.extend(val_predicted.cpu().numpy())\n",
        "\n",
        "        # Calculating average validation loss and accuracy\n",
        "        epoch_val_loss = val_loss / val_total_samples\n",
        "        epoch_val_accuracy = val_correct_predictions / val_total_samples\n",
        "        val_losses.append(epoch_val_loss)\n",
        "        val_accuracies.append(epoch_val_accuracy)\n",
        "\n",
        "        # Calculating precision, recall, f1, and support using sklearn\n",
        "        precision, recall, f1, _ = precision_recall_fscore_support(all_labels, all_predictions, average='binary')\n",
        "\n",
        "        print(f'Epoch [{epoch+1}/{num_epochs}]')\n",
        "        print(f'Train Loss: {epoch_train_loss:.4f}, Train Accuracy: {epoch_train_accuracy:.4f}')\n",
        "        print(f'Val Loss: {epoch_val_loss:.4f}, Val Accuracy: {epoch_val_accuracy:.4f}')\n",
        "        print(f'Precision: {precision:.4f}, Recall: {recall:.4f}, F1-Score: {f1:.4f}')\n",
        "\n",
        "        # If this model has the best recall, saving it\n",
        "        if recall > best_val_recall:\n",
        "            best_val_recall = recall\n",
        "            torch.save(model.state_dict(), model_save_path)\n",
        "            print(f'Best model saved with recall: {recall:.4f}')\n",
        "\n",
        "    # Plotting the loss and accuracy curves\n",
        "    plt.figure(figsize=(12, 5))\n",
        "    plt.subplot(1, 2, 1)\n",
        "    plt.plot(train_losses, label='Train Loss')\n",
        "    plt.plot(val_losses, label='Val Loss')\n",
        "    plt.xlabel('Epochs')\n",
        "    plt.ylabel('Loss')\n",
        "    plt.legend()\n",
        "    plt.subplot(1, 2, 2)\n",
        "    plt.plot(train_accuracies, label='Train Accuracy')\n",
        "    plt.plot(val_accuracies, label='Val Accuracy')\n",
        "    plt.xlabel('Epochs')\n",
        "    plt.ylabel('Accuracy')\n",
        "    plt.legend()\n",
        "    plt.show()\n",
        "\n",
        "# Training the model\n",
        "train_model(model, train_loader, val_loader, device, num_epochs=10)\n",
        "\n",
        "# Loading the best model for evaluation\n",
        "model.load_state_dict(torch.load('best_cnn_model.pth'))\n"
      ],
      "metadata": {
        "colab": {
          "base_uri": "https://localhost:8080/",
          "height": 1000
        },
        "id": "d47TXZeKsmx3",
        "outputId": "c8525145-3ede-4c48-b07c-751b4730aa0e"
      },
      "execution_count": 3,
      "outputs": [
        {
          "output_type": "stream",
          "name": "stderr",
          "text": [
            "Epoch 1/10 [Training]: 100%|██████████| 217/217 [04:48<00:00,  1.33s/it]\n",
            "Epoch 1/10 [Validation]: 100%|██████████| 47/47 [00:27<00:00,  1.71it/s]\n"
          ]
        },
        {
          "output_type": "stream",
          "name": "stdout",
          "text": [
            "Epoch [1/10]\n",
            "Train Loss: 0.6778, Train Accuracy: 0.5597\n",
            "Val Loss: 0.6084, Val Accuracy: 0.6985\n",
            "Precision: 0.7022, Recall: 0.6965, F1-Score: 0.6993\n",
            "Best model saved with recall: 0.6965\n"
          ]
        },
        {
          "output_type": "stream",
          "name": "stderr",
          "text": [
            "Epoch 2/10 [Training]: 100%|██████████| 217/217 [04:36<00:00,  1.27s/it]\n",
            "Epoch 2/10 [Validation]: 100%|██████████| 47/47 [00:26<00:00,  1.75it/s]\n"
          ]
        },
        {
          "output_type": "stream",
          "name": "stdout",
          "text": [
            "Epoch [2/10]\n",
            "Train Loss: 0.5628, Train Accuracy: 0.7100\n",
            "Val Loss: 0.5139, Val Accuracy: 0.7402\n",
            "Precision: 0.7262, Recall: 0.7767, F1-Score: 0.7506\n",
            "Best model saved with recall: 0.7767\n"
          ]
        },
        {
          "output_type": "stream",
          "name": "stderr",
          "text": [
            "Epoch 3/10 [Training]: 100%|██████████| 217/217 [04:36<00:00,  1.27s/it]\n",
            "Epoch 3/10 [Validation]: 100%|██████████| 47/47 [00:26<00:00,  1.77it/s]\n"
          ]
        },
        {
          "output_type": "stream",
          "name": "stdout",
          "text": [
            "Epoch [3/10]\n",
            "Train Loss: 0.5088, Train Accuracy: 0.7505\n",
            "Val Loss: 0.4862, Val Accuracy: 0.7699\n",
            "Precision: 0.7781, Recall: 0.7594, F1-Score: 0.7686\n"
          ]
        },
        {
          "output_type": "stream",
          "name": "stderr",
          "text": [
            "Epoch 4/10 [Training]: 100%|██████████| 217/217 [05:06<00:00,  1.41s/it]\n",
            "Epoch 4/10 [Validation]: 100%|██████████| 47/47 [00:26<00:00,  1.75it/s]\n"
          ]
        },
        {
          "output_type": "stream",
          "name": "stdout",
          "text": [
            "Epoch [4/10]\n",
            "Train Loss: 0.4734, Train Accuracy: 0.7707\n",
            "Val Loss: 0.4621, Val Accuracy: 0.7860\n",
            "Precision: 0.8238, Recall: 0.7313, F1-Score: 0.7748\n"
          ]
        },
        {
          "output_type": "stream",
          "name": "stderr",
          "text": [
            "Epoch 5/10 [Training]: 100%|██████████| 217/217 [05:02<00:00,  1.39s/it]\n",
            "Epoch 5/10 [Validation]: 100%|██████████| 47/47 [00:26<00:00,  1.75it/s]\n"
          ]
        },
        {
          "output_type": "stream",
          "name": "stdout",
          "text": [
            "Epoch [5/10]\n",
            "Train Loss: 0.4426, Train Accuracy: 0.7884\n",
            "Val Loss: 0.4587, Val Accuracy: 0.7873\n",
            "Precision: 0.8871, Recall: 0.6618, F1-Score: 0.7580\n"
          ]
        },
        {
          "output_type": "stream",
          "name": "stderr",
          "text": [
            "Epoch 6/10 [Training]: 100%|██████████| 217/217 [05:00<00:00,  1.38s/it]\n",
            "Epoch 6/10 [Validation]: 100%|██████████| 47/47 [00:26<00:00,  1.75it/s]\n"
          ]
        },
        {
          "output_type": "stream",
          "name": "stdout",
          "text": [
            "Epoch [6/10]\n",
            "Train Loss: 0.4190, Train Accuracy: 0.8046\n",
            "Val Loss: 0.4067, Val Accuracy: 0.7988\n",
            "Precision: 0.8481, Recall: 0.7313, F1-Score: 0.7854\n"
          ]
        },
        {
          "output_type": "stream",
          "name": "stderr",
          "text": [
            "Epoch 7/10 [Training]: 100%|██████████| 217/217 [04:59<00:00,  1.38s/it]\n",
            "Epoch 7/10 [Validation]: 100%|██████████| 47/47 [00:26<00:00,  1.74it/s]\n"
          ]
        },
        {
          "output_type": "stream",
          "name": "stdout",
          "text": [
            "Epoch [7/10]\n",
            "Train Loss: 0.3926, Train Accuracy: 0.8190\n",
            "Val Loss: 0.4282, Val Accuracy: 0.7974\n",
            "Precision: 0.9086, Recall: 0.6644, F1-Score: 0.7676\n"
          ]
        },
        {
          "output_type": "stream",
          "name": "stderr",
          "text": [
            "Epoch 8/10 [Training]: 100%|██████████| 217/217 [05:03<00:00,  1.40s/it]\n",
            "Epoch 8/10 [Validation]: 100%|██████████| 47/47 [00:26<00:00,  1.76it/s]\n"
          ]
        },
        {
          "output_type": "stream",
          "name": "stdout",
          "text": [
            "Epoch [8/10]\n",
            "Train Loss: 0.3786, Train Accuracy: 0.8285\n",
            "Val Loss: 0.3957, Val Accuracy: 0.8075\n",
            "Precision: 0.8714, Recall: 0.7246, F1-Score: 0.7912\n"
          ]
        },
        {
          "output_type": "stream",
          "name": "stderr",
          "text": [
            "Epoch 9/10 [Training]: 100%|██████████| 217/217 [04:59<00:00,  1.38s/it]\n",
            "Epoch 9/10 [Validation]: 100%|██████████| 47/47 [00:27<00:00,  1.74it/s]\n"
          ]
        },
        {
          "output_type": "stream",
          "name": "stdout",
          "text": [
            "Epoch [9/10]\n",
            "Train Loss: 0.3518, Train Accuracy: 0.8405\n",
            "Val Loss: 0.3445, Val Accuracy: 0.8291\n",
            "Precision: 0.8311, Recall: 0.8289, F1-Score: 0.8300\n",
            "Best model saved with recall: 0.8289\n"
          ]
        },
        {
          "output_type": "stream",
          "name": "stderr",
          "text": [
            "Epoch 10/10 [Training]: 100%|██████████| 217/217 [05:00<00:00,  1.39s/it]\n",
            "Epoch 10/10 [Validation]: 100%|██████████| 47/47 [00:26<00:00,  1.75it/s]\n"
          ]
        },
        {
          "output_type": "stream",
          "name": "stdout",
          "text": [
            "Epoch [10/10]\n",
            "Train Loss: 0.3399, Train Accuracy: 0.8490\n",
            "Val Loss: 0.3316, Val Accuracy: 0.8452\n",
            "Precision: 0.8866, Recall: 0.7941, F1-Score: 0.8378\n"
          ]
        },
        {
          "output_type": "display_data",
          "data": {
            "text/plain": [
              "<Figure size 1200x500 with 2 Axes>"
            ],
            "image/png": "[encoded data removed]"
          },
          "metadata": {}
        },
        {
          "output_type": "stream",
          "name": "stderr",
          "text": [
            "<ipython-input-3-a065548ab00c>:245: FutureWarning: You are using `torch.load` with `weights_only=False` (the current default value), which uses the default pickle module implicitly. It is possible to construct malicious pickle data which will execute arbitrary code during unpickling (See https://github.com/pytorch/pytorch/blob/main/SECURITY.md#untrusted-models for more details). In a future release, the default value for `weights_only` will be flipped to `True`. This limits the functions that could be executed during unpickling. Arbitrary objects will no longer be allowed to be loaded via this mode unless they are explicitly allowlisted by the user via `torch.serialization.add_safe_globals`. We recommend you start setting `weights_only=True` for any use case where you don't have full control of the loaded file. Please open an issue on GitHub for any issues related to this experimental feature.\n",
            "  model.load_state_dict(torch.load('best_cnn_model.pth'))\n"
          ]
        },
        {
          "output_type": "execute_result",
          "data": {
            "text/plain": [
              "<All keys matched successfully>"
            ]
          },
          "metadata": {},
          "execution_count": 3
        }
      ]
    },
    {
      "cell_type": "code",
      "source": [
        "plt.figure(figsize=(12, 5))\n",
        "plt.subplot(1, 2, 1)\n",
        "plt.plot(train_losses, label='Train Loss')\n",
        "plt.plot(val_losses, label='Val Loss')\n",
        "plt.xlabel('Epochs')\n",
        "plt.ylabel('Loss')\n",
        "plt.legend()\n",
        "plt.subplot(1, 2, 2)\n",
        "plt.plot(train_accuracies, label='Train Accuracy')\n",
        "plt.plot(val_accuracies, label='Val Accuracy')\n",
        "plt.xlabel('Epochs')\n",
        "plt.ylabel('Accuracy')\n",
        "plt.legend()\n",
        "plt.show()"
      ],
      "metadata": {
        "id": "7ADYTPjHlDZi"
      },
      "execution_count": null,
      "outputs": []
    },
    {
      "cell_type": "code",
      "source": [],
      "metadata": {
        "id": "qbcvgEmilDTj"
      },
      "execution_count": null,
      "outputs": []
    }
  ]
}