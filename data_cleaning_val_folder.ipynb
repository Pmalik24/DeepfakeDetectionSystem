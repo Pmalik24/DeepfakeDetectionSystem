{
 "cells": [
  {
   "cell_type": "code",
   "execution_count": 19,
   "metadata": {},
   "outputs": [],
   "source": [
    "import os\n",
    "import shutil"
   ]
  },
  {
   "cell_type": "code",
   "execution_count": 6,
   "metadata": {},
   "outputs": [],
   "source": [
    "\n",
    "# Define folder paths\n",
    "real_folder = 'validation/real'\n",
    "fake_folder = 'validation/fake'\n",
    "\n",
    "# Get list of files from both folders\n",
    "real_images = sorted([f for f in os.listdir(real_folder) if f.endswith('.png')])\n",
    "fake_images = sorted([f for f in os.listdir(fake_folder) if f.endswith('.png')])\n",
    "\n",
    "# Prepare sets to store matched and unmatched\n",
    "matches = []\n",
    "unmatched_real = []\n",
    "unmatched_fake = []\n"
   ]
  },
  {
   "cell_type": "code",
   "execution_count": 7,
   "metadata": {},
   "outputs": [],
   "source": [
    "# Create a function to extract corresponding parts of filenames\n",
    "def extract_real_key(filename):\n",
    "    return filename.split('_')[0] + \"_\" + filename.split('_')[1]  # Extract 'xxx_yy' part from real\n",
    "\n",
    "def extract_fake_key(filename):\n",
    "    return filename.split('_')[0] + \"_\" + filename.split('_')[2]  # Extract 'xxx_yy' part from fake\n",
    "\n",
    "# Create sets of real and fake keys\n",
    "real_keys = {extract_real_key(img) for img in real_images}\n",
    "fake_keys = {extract_fake_key(img) for img in fake_images}\n",
    "\n",
    "# Check for matches and unmatches\n",
    "for real_img in real_images:\n",
    "    real_key = extract_real_key(real_img)\n",
    "    if real_key in fake_keys:\n",
    "        matches.append(real_img)\n",
    "    else:\n",
    "        unmatched_real.append(real_img)\n",
    "\n",
    "for fake_img in fake_images:\n",
    "    fake_key = extract_fake_key(fake_img)\n",
    "    if fake_key not in real_keys:\n",
    "        unmatched_fake.append(fake_img)\n",
    "\n"
   ]
  },
  {
   "cell_type": "code",
   "execution_count": 8,
   "metadata": {},
   "outputs": [],
   "source": [
    "# Calculate total matches and unmatches\n",
    "total_matches = len(matches)\n",
    "total_unmatches_real = len(unmatched_real)\n",
    "total_unmatches_fake = len(unmatched_fake)\n"
   ]
  },
  {
   "cell_type": "code",
   "execution_count": 9,
   "metadata": {},
   "outputs": [
    {
     "name": "stdout",
     "output_type": "stream",
     "text": [
      "Total matches: 1176\n",
      "Total unmatches in real: 24\n",
      "Total unmatches in fake: 24\n"
     ]
    }
   ],
   "source": [
    "# Display the results\n",
    "print(f\"Total matches: {total_matches}\")\n",
    "print(f\"Total unmatches in real: {total_unmatches_real}\")\n",
    "print(f\"Total unmatches in fake: {total_unmatches_fake}\")\n",
    "# print(f\"Unmatched real images saved to 'unmatched_real.txt'\")\n",
    "# print(f\"Unmatched fake images saved to 'unmatched_fake.txt'\")"
   ]
  },
  {
   "cell_type": "code",
   "execution_count": 11,
   "metadata": {},
   "outputs": [],
   "source": [
    "# Save unmatched real and fake images to separate files\n",
    "with open('unmatched_real_validation.txt', 'w') as file:\n",
    "    for unmatched in unmatched_real:\n",
    "        file.write(f\"{unmatched}\\n\")\n",
    "\n",
    "with open('unmatched_fake_validation.txt', 'w') as file:\n",
    "    for unmatched in unmatched_fake:\n",
    "        file.write(f\"{unmatched}\\n\")\n"
   ]
  },
  {
   "cell_type": "code",
   "execution_count": 16,
   "metadata": {},
   "outputs": [],
   "source": [
    "# Create the new folder structure\n",
    "root_dir = \"/Users/parthmalik/Desktop/PROJECT - SYSTUMM - LOCAL/1000_videos\" # edit to your own\n",
    "cleaned_validation_dir = os.path.join(root_dir, 'cleaned_validation')\n",
    "clean_real_dir = os.path.join(cleaned_validation_dir, 'clean_real')\n",
    "clean_fake_dir = os.path.join(cleaned_validation_dir, 'clean_fake')\n",
    "real_with_no_matches_dir = os.path.join(cleaned_validation_dir, 'real_with_no_matches')"
   ]
  },
  {
   "cell_type": "code",
   "execution_count": 17,
   "metadata": {},
   "outputs": [],
   "source": [
    "# Create directories if they do not exist\n",
    "os.makedirs(clean_real_dir, exist_ok=True)\n",
    "os.makedirs(clean_fake_dir, exist_ok=True)\n",
    "os.makedirs(real_with_no_matches_dir, exist_ok=True)"
   ]
  },
  {
   "cell_type": "code",
   "execution_count": 20,
   "metadata": {},
   "outputs": [],
   "source": [
    "# Move matched images to clean_real and clean_fake\n",
    "for real_img in matches:\n",
    "    shutil.copy(os.path.join(real_folder, real_img), os.path.join(clean_real_dir, real_img))\n",
    "\n",
    "for fake_img in fake_images:\n",
    "    fake_key = extract_fake_key(fake_img)\n",
    "    if fake_key in real_keys:\n",
    "        shutil.copy(os.path.join(fake_folder, fake_img), os.path.join(clean_fake_dir, fake_img))\n",
    "\n",
    "# Move unmatched real images (that have no corresponding fake image) to real_with_no_matches\n",
    "for unmatched in unmatched_real:\n",
    "    shutil.copy(os.path.join(real_folder, unmatched), os.path.join(real_with_no_matches_dir, unmatched))"
   ]
  },
  {
   "cell_type": "code",
   "execution_count": 21,
   "metadata": {},
   "outputs": [],
   "source": [
    "# Save unmatched real and fake images to separate files for reference\n",
    "with open(os.path.join(cleaned_validation_dir, 'unmatched_real.txt'), 'w') as file:\n",
    "    for unmatched in unmatched_real:\n",
    "        file.write(f\"{unmatched}\\n\")\n",
    "\n",
    "with open(os.path.join(cleaned_validation_dir, 'unmatched_fake.txt'), 'w') as file:\n",
    "    for unmatched in unmatched_fake:\n",
    "        file.write(f\"{unmatched}\\n\")\n"
   ]
  },
  {
   "cell_type": "code",
   "execution_count": null,
   "metadata": {},
   "outputs": [],
   "source": []
  }
 ],
 "metadata": {
  "kernelspec": {
   "display_name": "Python 3",
   "language": "python",
   "name": "python3"
  },
  "language_info": {
   "codemirror_mode": {
    "name": "ipython",
    "version": 3
   },
   "file_extension": ".py",
   "mimetype": "text/x-python",
   "name": "python",
   "nbconvert_exporter": "python",
   "pygments_lexer": "ipython3",
   "version": "3.11.2"
  }
 },
 "nbformat": 4,
 "nbformat_minor": 2
}
