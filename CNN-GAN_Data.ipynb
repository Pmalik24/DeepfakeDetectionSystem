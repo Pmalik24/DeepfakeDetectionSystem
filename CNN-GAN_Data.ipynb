{
 "cells": [
  {
   "cell_type": "code",
   "execution_count": 17,
   "id": "9239eeca",
   "metadata": {},
   "outputs": [],
   "source": [
    "import os\n",
    "import torch\n",
    "from torch.utils.data import DataLoader, Dataset\n",
    "from torchvision import transforms\n",
    "from PIL import Image\n",
    "from tqdm import tqdm\n",
    "import torch.optim as optim\n",
    "import torch.nn as nn\n",
    "import matplotlib.pyplot as plt\n",
    "from sklearn.metrics import precision_recall_fscore_support, confusion_matrix\n",
    "import torch.optim as optim\n",
    "from torch.optim.lr_scheduler import ReduceLROnPlateau\n",
    "import matplotlib.pyplot as plt\n",
    "import torch.nn as nn\n",
    "import torch"
   ]
  },
  {
   "cell_type": "code",
   "execution_count": 2,
   "id": "7fad9403",
   "metadata": {},
   "outputs": [],
   "source": [
    "# Custom dataset class for loading images\n",
    "class ImageDataset(Dataset):\n",
    "    def __init__(self, real_dir, fake_dir, transform=None):\n",
    "        self.real_dir = real_dir\n",
    "        self.fake_dir = fake_dir\n",
    "        self.transform = transform\n",
    "        \n",
    "        # Get image paths for real and fake images\n",
    "        self.real_images = os.listdir(real_dir)\n",
    "        self.fake_images = os.listdir(fake_dir)\n",
    "        \n",
    "        # Create full paths for the images and assign labels\n",
    "        self.image_paths = [os.path.join(real_dir, img) for img in self.real_images] + \\\n",
    "                           [os.path.join(fake_dir, img) for img in self.fake_images]\n",
    "        \n",
    "        # 0 for real, 1 for fake\n",
    "        self.labels = [0] * len(self.real_images) + [1] * len(self.fake_images)\n",
    "\n",
    "    def __len__(self):\n",
    "        return len(self.image_paths)\n",
    "\n",
    "    def __getitem__(self, idx):\n",
    "        image_path = self.image_paths[idx]\n",
    "        label = self.labels[idx]\n",
    "        image = Image.open(image_path).convert(\"RGB\")\n",
    "        \n",
    "        if self.transform:\n",
    "            image = self.transform(image)\n",
    "        \n",
    "        return image, label"
   ]
  },
  {
   "cell_type": "code",
   "execution_count": 3,
   "id": "581a25a0",
   "metadata": {},
   "outputs": [],
   "source": [
    "train_transform = transforms.Compose([\n",
    "    transforms.RandomHorizontalFlip(),\n",
    "    transforms.RandomRotation(10),\n",
    "    transforms.ColorJitter(brightness=0.2, contrast=0.2, saturation=0.2, hue=0.1),\n",
    "    transforms.ToTensor(),\n",
    "    transforms.Normalize([0.485, 0.456, 0.406], [0.229, 0.224, 0.225])\n",
    "])\n",
    "\n",
    "val_test_transform = transforms.Compose([\n",
    "    transforms.ToTensor(),\n",
    "    transforms.Normalize([0.485, 0.456, 0.406], [0.229, 0.224, 0.225])\n",
    "])"
   ]
  },
  {
   "cell_type": "code",
   "execution_count": 4,
   "id": "1e85c082",
   "metadata": {},
   "outputs": [
    {
     "name": "stdout",
     "output_type": "stream",
     "text": [
      "Collecting patool\n",
      "  Downloading patool-1.15.0-py2.py3-none-any.whl.metadata (3.8 kB)\n",
      "Downloading patool-1.15.0-py2.py3-none-any.whl (91 kB)\n",
      "\u001b[2K   \u001b[90m━━━━━━━━━━━━━━━━━━━━━━━━━━━━━━━━━━━━━━━━\u001b[0m \u001b[32m91.1/91.1 kB\u001b[0m \u001b[31m2.5 MB/s\u001b[0m eta \u001b[36m0:00:00\u001b[0m\n",
      "\u001b[?25hInstalling collected packages: patool\n",
      "Successfully installed patool-1.15.0\n",
      "\n",
      "\u001b[1m[\u001b[0m\u001b[34;49mnotice\u001b[0m\u001b[1;39;49m]\u001b[0m\u001b[39;49m A new release of pip is available: \u001b[0m\u001b[31;49m24.0\u001b[0m\u001b[39;49m -> \u001b[0m\u001b[32;49m24.2\u001b[0m\n",
      "\u001b[1m[\u001b[0m\u001b[34;49mnotice\u001b[0m\u001b[1;39;49m]\u001b[0m\u001b[39;49m To update, run: \u001b[0m\u001b[32;49mpip install --upgrade pip\u001b[0m\n"
     ]
    }
   ],
   "source": [
    "# !pip install patool"
   ]
  },
  {
   "cell_type": "code",
   "execution_count": 5,
   "id": "f5c48fca",
   "metadata": {},
   "outputs": [
    {
     "name": "stderr",
     "output_type": "stream",
     "text": [
      "INFO patool: Extracting FINAL_GAN_COMBINED_data (2).zip ...\n",
      "INFO patool: ... FINAL_GAN_COMBINED_data (2).zip extracted to `/Downloads'.\n"
     ]
    },
    {
     "data": {
      "text/plain": [
       "'/Downloads'"
      ]
     },
     "execution_count": 5,
     "metadata": {},
     "output_type": "execute_result"
    }
   ],
   "source": [
    "# import patoolib\n",
    "# patoolib.extract_archive(\"FINAL_GAN_COMBINED_data (2).zip\",outdir=\"/Downloads\")"
   ]
  },
  {
   "cell_type": "code",
   "execution_count": 4,
   "id": "109fd22b",
   "metadata": {},
   "outputs": [
    {
     "name": "stdout",
     "output_type": "stream",
     "text": [
      "['rezised_fake', '.DS_Store', 'rezised_real']\n"
     ]
    }
   ],
   "source": [
    "import os\n",
    "\n",
    "# Specify the path to the extracted folder\n",
    "extracted_path = 'final_cleaned_dataset/resized_data'\n",
    "\n",
    "# List all files and directories in the extracted path\n",
    "files_and_dirs = os.listdir(extracted_path)\n",
    "\n",
    "# Display the contents\n",
    "print(files_and_dirs)"
   ]
  },
  {
   "cell_type": "code",
   "execution_count": 7,
   "id": "677fa7c4",
   "metadata": {},
   "outputs": [],
   "source": [
    "real_dir = 'final_cleaned_dataset/resized_data/rezised_real'\n",
    "fake_dir = 'final_cleaned_dataset/resized_data/rezised_fake'"
   ]
  },
  {
   "cell_type": "code",
   "execution_count": 8,
   "id": "fdf9330d",
   "metadata": {},
   "outputs": [],
   "source": [
    "full_dataset = ImageDataset(real_dir, fake_dir, transform=train_transform)\n",
    "\n",
    "# Getting dataset length\n",
    "dataset_size = len(full_dataset)\n",
    "\n",
    "# Splitting into 70% train and 30% for val+test\n",
    "train_size = int(0.7 * dataset_size)\n",
    "val_test_size = dataset_size - train_size\n",
    "\n",
    "# Now spliting val+test into 15% val and 15% test\n",
    "val_size = int(0.5 * val_test_size)\n",
    "test_size = val_test_size - val_size\n",
    "\n",
    "# Creating train, val, and test sets\n",
    "train_dataset, val_test_dataset = torch.utils.data.random_split(full_dataset, [train_size, val_test_size])\n",
    "val_dataset, test_dataset = torch.utils.data.random_split(val_test_dataset, [val_size, test_size])\n",
    "\n",
    "# Creating DataLoaders for each set\n",
    "train_loader = DataLoader(train_dataset, batch_size=32, shuffle=True)\n",
    "val_loader = DataLoader(val_dataset, batch_size=32, shuffle=False)\n",
    "test_loader = DataLoader(test_dataset, batch_size=32, shuffle=False)"
   ]
  },
  {
   "cell_type": "code",
   "execution_count": 9,
   "id": "6dbef113",
   "metadata": {},
   "outputs": [],
   "source": [
    "class CNNModel(torch.nn.Module):\n",
    "    def __init__(self):\n",
    "        super(CNNModel, self).__init__()\n",
    "\n",
    "        self.conv1 = torch.nn.Conv2d(in_channels=3, out_channels=32, kernel_size=3, stride=1, padding=1)\n",
    "        self.conv2 = torch.nn.Conv2d(in_channels=32, out_channels=64, kernel_size=3, stride=1, padding=1)\n",
    "        self.conv3 = torch.nn.Conv2d(in_channels=64, out_channels=128, kernel_size=3, stride=1, padding=1)\n",
    "\n",
    "        self.pool = torch.nn.MaxPool2d(kernel_size=2, stride=2, padding=0)\n",
    "\n",
    "        # Adjusted the input size of fc1 to match the flattened size\n",
    "        self.fc1 = torch.nn.Linear(128 * 28 * 28, 512)\n",
    "        self.fc2 = torch.nn.Linear(512, 128)\n",
    "        self.fc3 = torch.nn.Linear(128, 2)  # Binary classification: real vs fake\n",
    "\n",
    "        self.dropout = torch.nn.Dropout(0.5)\n",
    "\n",
    "    def forward(self, x):\n",
    "        x = self.pool(torch.nn.functional.relu(self.conv1(x)))  # Conv Layer 1 with ReLU + Pooling\n",
    "        x = self.pool(torch.nn.functional.relu(self.conv2(x)))  # Conv Layer 2 with ReLU + Pooling\n",
    "        x = self.pool(torch.nn.functional.relu(self.conv3(x)))  # Conv Layer 3 with ReLU + Pooling\n",
    "\n",
    "        x = x.view(-1, 128 * 28 * 28)  # Flatten the output for fully connected layers\n",
    "\n",
    "        x = self.dropout(torch.nn.functional.relu(self.fc1(x)))  # FC Layer 1 with ReLU + Dropout\n",
    "        x = self.dropout(torch.nn.functional.relu(self.fc2(x)))  # FC Layer 2 with ReLU + Dropout\n",
    "        x = self.fc3(x)  # Final output layer\n",
    "\n",
    "        return x"
   ]
  },
  {
   "cell_type": "code",
   "execution_count": 10,
   "id": "f42461c9",
   "metadata": {},
   "outputs": [
    {
     "data": {
      "text/plain": [
       "CNNModel(\n",
       "  (conv1): Conv2d(3, 32, kernel_size=(3, 3), stride=(1, 1), padding=(1, 1))\n",
       "  (conv2): Conv2d(32, 64, kernel_size=(3, 3), stride=(1, 1), padding=(1, 1))\n",
       "  (conv3): Conv2d(64, 128, kernel_size=(3, 3), stride=(1, 1), padding=(1, 1))\n",
       "  (pool): MaxPool2d(kernel_size=2, stride=2, padding=0, dilation=1, ceil_mode=False)\n",
       "  (fc1): Linear(in_features=100352, out_features=512, bias=True)\n",
       "  (fc2): Linear(in_features=512, out_features=128, bias=True)\n",
       "  (fc3): Linear(in_features=128, out_features=2, bias=True)\n",
       "  (dropout): Dropout(p=0.5, inplace=False)\n",
       ")"
      ]
     },
     "execution_count": 10,
     "metadata": {},
     "output_type": "execute_result"
    }
   ],
   "source": [
    "# Initializing the model\n",
    "model = CNNModel()\n",
    "\n",
    "# Moving the model to the GPU\n",
    "device = torch.device(\"mps\" if torch.backends.mps.is_available() else \"cpu\")\n",
    "model.to(device)"
   ]
  },
  {
   "cell_type": "code",
   "execution_count": 18,
   "id": "19983cc4",
   "metadata": {},
   "outputs": [],
   "source": [
    "import torch.optim as optim\n",
    "import torch.nn as nn\n",
    "import matplotlib.pyplot as plt\n",
    "from sklearn.metrics import precision_recall_fscore_support, confusion_matrix, ConfusionMatrixDisplay\n",
    "\n",
    "def train_model(\n",
    "    model,            # The PyTorch model to train\n",
    "    train_loader,     # DataLoader for training data\n",
    "    val_loader,       # DataLoader for validation data\n",
    "    device,           # Device (cpu, mps, or cuda)\n",
    "    num_epochs=100,    # Number of epochs to train for\n",
    "    lr=1e-4,          # Learning rate\n",
    "    patience=10,       # Early stopping patience (number of epochs to wait for improvement)\n",
    "    model_save_path='best_model_cnn.pth'  # Path to save the best model\n",
    "):\n",
    "    # Define the optimizer and loss function\n",
    "    optimizer = optim.Adam(model.parameters(), lr=lr)\n",
    "    loss_fn = nn.CrossEntropyLoss()  # Cross-entropy loss for binary classification\n",
    "\n",
    "    # Lists to store metrics\n",
    "    train_losses = []\n",
    "    val_losses = []\n",
    "    train_accuracies = []\n",
    "    val_accuracies = []\n",
    "\n",
    "    best_val_recall = 0.0  # To track the model with the best recall\n",
    "    best_val_loss = float('inf')  # To track the best validation loss for early stopping\n",
    "    epochs_no_improve = 0  # Counter for early stopping\n",
    "\n",
    "    for epoch in range(num_epochs):\n",
    "        model.train()  # Set model to training mode\n",
    "        running_loss = 0.0\n",
    "        correct_predictions = 0\n",
    "        total_samples = 0\n",
    "\n",
    "        # Training loop with tqdm progress bar\n",
    "        for images, labels in tqdm(train_loader, desc=f\"Epoch {epoch+1}/{num_epochs} [Training]\"):\n",
    "            images, labels = images.to(device), labels.to(device)\n",
    "\n",
    "            optimizer.zero_grad()  # Zero the gradients\n",
    "\n",
    "            # Forward pass\n",
    "            outputs = model(images)\n",
    "            loss = loss_fn(outputs, labels)\n",
    "\n",
    "            # Backward pass and optimize\n",
    "            loss.backward()\n",
    "            optimizer.step()\n",
    "\n",
    "            # Track loss and accuracy\n",
    "            running_loss += loss.item() * images.size(0)\n",
    "            _, predicted = torch.max(outputs, 1)\n",
    "            correct_predictions += (predicted == labels).sum().item()\n",
    "            total_samples += labels.size(0)\n",
    "\n",
    "        # Calculate average loss and accuracy for the epoch\n",
    "        epoch_train_loss = running_loss / total_samples\n",
    "        epoch_train_accuracy = correct_predictions / total_samples\n",
    "        train_losses.append(epoch_train_loss)\n",
    "        train_accuracies.append(epoch_train_accuracy)\n",
    "\n",
    "        # Validation loop\n",
    "        model.eval()\n",
    "        val_loss = 0.0\n",
    "        val_correct_predictions = 0\n",
    "        val_total_samples = 0\n",
    "        all_labels = []\n",
    "        all_predictions = []\n",
    "        with torch.no_grad():\n",
    "            for val_images, val_labels in tqdm(val_loader, desc=f\"Epoch {epoch+1}/{num_epochs} [Validation]\"):\n",
    "                val_images, val_labels = val_images.to(device), val_labels.to(device)\n",
    "\n",
    "                val_outputs = model(val_images)\n",
    "                loss = loss_fn(val_outputs, val_labels)\n",
    "\n",
    "                # Track validation loss and accuracy\n",
    "                val_loss += loss.item() * val_images.size(0)\n",
    "                _, val_predicted = torch.max(val_outputs, 1)\n",
    "                val_correct_predictions += (val_predicted == val_labels).sum().item()\n",
    "                val_total_samples += val_labels.size(0)\n",
    "\n",
    "                # Collect labels and predictions for metrics calculation\n",
    "                all_labels.extend(val_labels.cpu().numpy())\n",
    "                all_predictions.extend(val_predicted.cpu().numpy())\n",
    "\n",
    "        # Calculating average validation loss and accuracy\n",
    "        epoch_val_loss = val_loss / val_total_samples\n",
    "        epoch_val_accuracy = val_correct_predictions / val_total_samples\n",
    "        val_losses.append(epoch_val_loss)\n",
    "        val_accuracies.append(epoch_val_accuracy)\n",
    "\n",
    "        # Calculating precision, recall, f1, and support using sklearn\n",
    "        precision, recall, f1, _ = precision_recall_fscore_support(all_labels, all_predictions, average='binary')\n",
    "\n",
    "        print(f'Epoch [{epoch+1}/{num_epochs}]')\n",
    "        print(f'Train Loss: {epoch_train_loss:.4f}, Train Accuracy: {epoch_train_accuracy:.4f}')\n",
    "        print(f'Val Loss: {epoch_val_loss:.4f}, Val Accuracy: {epoch_val_accuracy:.4f}')\n",
    "        print(f'Precision: {precision:.4f}, Recall: {recall:.4f}, F1-Score: {f1:.4f}')\n",
    "        \n",
    "        if recall > best_val_recall:\n",
    "            best_val_recall = recall\n",
    "            torch.save(model.state_dict(), model_save_path)\n",
    "            print(f'Best model saved with validation recall: {recall:.4f}')\n",
    "        \n",
    "\n",
    "        # Early stopping logic based on validation loss\n",
    "        if epoch_val_loss < best_val_loss:\n",
    "            best_val_loss = epoch_val_loss\n",
    "            epochs_no_improve = 0\n",
    "            \n",
    "        else:\n",
    "            epochs_no_improve += 1\n",
    "            if epochs_no_improve >= patience:\n",
    "                print(f'Early stopping triggered after {epoch+1} epochs.')\n",
    "                break\n",
    "                \n",
    "     # Plotting loss and accuracy over epochs\n",
    "    plt.figure(figsize=(12, 5))\n",
    "\n",
    "    # Loss plot\n",
    "    plt.subplot(1, 2, 1)\n",
    "    plt.plot(train_losses, label='Training Loss')\n",
    "    plt.plot(val_losses, label='Validation Loss')\n",
    "    plt.xlabel('Epochs')\n",
    "    plt.ylabel('Loss')\n",
    "    plt.legend()\n",
    "    plt.title('Loss over Epochs')\n",
    "\n",
    "    # Accuracy plot\n",
    "    plt.subplot(1, 2, 2)\n",
    "    plt.plot(train_accuracies, label='Training Accuracy')\n",
    "    plt.plot(val_accuracies, label='Validation Accuracy')\n",
    "    plt.xlabel('Epochs')\n",
    "    plt.ylabel('Accuracy')\n",
    "    plt.legend()\n",
    "    plt.title('Accuracy over Epochs')\n",
    "\n",
    "    plt.tight_layout()\n",
    "    plt.show()            \n",
    "\n",
    "# Test set evaluation function\n",
    "def evaluate_model(model, test_loader, device):\n",
    "    model.eval()\n",
    "    all_labels = []\n",
    "    all_predictions = []\n",
    "    with torch.no_grad():\n",
    "        for images, labels in test_loader:\n",
    "            images, labels = images.to(device), labels.to(device)\n",
    "\n",
    "            outputs = model(images)\n",
    "            _, predicted = torch.max(outputs, 1)\n",
    "\n",
    "            all_labels.extend(labels.cpu().numpy())\n",
    "            all_predictions.extend(predicted.cpu().numpy())\n",
    "\n",
    "    # Calculate precision, recall, f1-score, and confusion matrix for the test set\n",
    "    precision, recall, f1, _ = precision_recall_fscore_support(all_labels, all_predictions, average='binary')\n",
    "    print(f'Test Precision: {precision:.4f}, Test Recall: {recall:.4f}, Test F1-Score: {f1:.4f}')\n",
    "\n",
    "    # Confusion matrix visualization for the test set\n",
    "    cm = confusion_matrix(all_labels, all_predictions)\n",
    "    disp = ConfusionMatrixDisplay(confusion_matrix=cm, display_labels=['Real', 'Fake'])\n",
    "    disp.plot()\n",
    "    plt.title('Confusion Matrix - Test Set')\n",
    "    plt.show()\n",
    "    \n",
    "    # ROC-AUC curve\n",
    "    fpr, tpr, _ = roc_curve(all_labels, all_probs)\n",
    "    roc_auc = auc(fpr, tpr)\n",
    "    plt.figure()\n",
    "    plt.plot(fpr, tpr, color='darkorange', label=f'ROC curve (area = {roc_auc:.2f})')\n",
    "    plt.plot([0, 1], [0, 1], color='navy', linestyle='--')\n",
    "    plt.xlabel('False Positive Rate')\n",
    "    plt.ylabel('True Positive Rate')\n",
    "    plt.title('Receiver Operating Characteristic (ROC) - Test Set')\n",
    "    plt.legend(loc='lower right')\n",
    "    plt.show()"
   ]
  },
  {
   "cell_type": "code",
   "execution_count": 16,
   "id": "da1ff51d",
   "metadata": {},
   "outputs": [
    {
     "name": "stderr",
     "output_type": "stream",
     "text": [
      "Epoch 1/100 [Training]: 100%|██████████| 290/290 [00:57<00:00,  5.06it/s]\n",
      "Epoch 1/100 [Validation]: 100%|██████████| 63/63 [00:09<00:00,  6.36it/s]\n"
     ]
    },
    {
     "name": "stdout",
     "output_type": "stream",
     "text": [
      "Epoch [1/100]\n",
      "Train Loss: 0.5812, Train Accuracy: 0.6881\n",
      "Val Loss: 0.5458, Val Accuracy: 0.7083\n",
      "Precision: 0.7328, Recall: 0.6617, F1-Score: 0.6954\n",
      "Best model saved with validation recall: 0.6617\n"
     ]
    },
    {
     "name": "stderr",
     "output_type": "stream",
     "text": [
      "Epoch 2/100 [Training]: 100%|██████████| 290/290 [00:56<00:00,  5.11it/s]\n",
      "Epoch 2/100 [Validation]: 100%|██████████| 63/63 [00:09<00:00,  6.32it/s]\n"
     ]
    },
    {
     "name": "stdout",
     "output_type": "stream",
     "text": [
      "Epoch [2/100]\n",
      "Train Loss: 0.5511, Train Accuracy: 0.7009\n",
      "Val Loss: 0.5192, Val Accuracy: 0.7204\n",
      "Precision: 0.6965, Recall: 0.7878, F1-Score: 0.7393\n",
      "Best model saved with validation recall: 0.7878\n"
     ]
    },
    {
     "name": "stderr",
     "output_type": "stream",
     "text": [
      "Epoch 3/100 [Training]: 100%|██████████| 290/290 [00:57<00:00,  5.06it/s]\n",
      "Epoch 3/100 [Validation]: 100%|██████████| 63/63 [00:09<00:00,  6.62it/s]\n"
     ]
    },
    {
     "name": "stdout",
     "output_type": "stream",
     "text": [
      "Epoch [3/100]\n",
      "Train Loss: 0.5271, Train Accuracy: 0.7159\n",
      "Val Loss: 0.4953, Val Accuracy: 0.7355\n",
      "Precision: 0.7380, Recall: 0.7357, F1-Score: 0.7368\n"
     ]
    },
    {
     "name": "stderr",
     "output_type": "stream",
     "text": [
      "Epoch 4/100 [Training]: 100%|██████████| 290/290 [00:55<00:00,  5.18it/s]\n",
      "Epoch 4/100 [Validation]: 100%|██████████| 63/63 [00:09<00:00,  6.38it/s]\n"
     ]
    },
    {
     "name": "stdout",
     "output_type": "stream",
     "text": [
      "Epoch [4/100]\n",
      "Train Loss: 0.5081, Train Accuracy: 0.7303\n",
      "Val Loss: 0.4781, Val Accuracy: 0.7355\n",
      "Precision: 0.7199, Recall: 0.7768, F1-Score: 0.7472\n"
     ]
    },
    {
     "name": "stderr",
     "output_type": "stream",
     "text": [
      "Epoch 5/100 [Training]: 100%|██████████| 290/290 [00:55<00:00,  5.21it/s]\n",
      "Epoch 5/100 [Validation]: 100%|██████████| 63/63 [00:09<00:00,  6.75it/s]\n"
     ]
    },
    {
     "name": "stdout",
     "output_type": "stream",
     "text": [
      "Epoch [5/100]\n",
      "Train Loss: 0.4953, Train Accuracy: 0.7397\n",
      "Val Loss: 0.4720, Val Accuracy: 0.7436\n",
      "Precision: 0.7407, Recall: 0.7548, F1-Score: 0.7476\n"
     ]
    },
    {
     "name": "stderr",
     "output_type": "stream",
     "text": [
      "Epoch 6/100 [Training]: 100%|██████████| 290/290 [00:55<00:00,  5.22it/s]\n",
      "Epoch 6/100 [Validation]: 100%|██████████| 63/63 [00:09<00:00,  6.47it/s]\n"
     ]
    },
    {
     "name": "stdout",
     "output_type": "stream",
     "text": [
      "Epoch [6/100]\n",
      "Train Loss: 0.4732, Train Accuracy: 0.7530\n",
      "Val Loss: 0.4568, Val Accuracy: 0.7582\n",
      "Precision: 0.7645, Recall: 0.7508, F1-Score: 0.7576\n"
     ]
    },
    {
     "name": "stderr",
     "output_type": "stream",
     "text": [
      "Epoch 7/100 [Training]: 100%|██████████| 290/290 [00:56<00:00,  5.14it/s]\n",
      "Epoch 7/100 [Validation]: 100%|██████████| 63/63 [00:09<00:00,  6.57it/s]\n"
     ]
    },
    {
     "name": "stdout",
     "output_type": "stream",
     "text": [
      "Epoch [7/100]\n",
      "Train Loss: 0.4543, Train Accuracy: 0.7664\n",
      "Val Loss: 0.4307, Val Accuracy: 0.7743\n",
      "Precision: 0.7947, Recall: 0.7437, F1-Score: 0.7684\n"
     ]
    },
    {
     "name": "stderr",
     "output_type": "stream",
     "text": [
      "Epoch 8/100 [Training]: 100%|██████████| 290/290 [00:56<00:00,  5.16it/s]\n",
      "Epoch 8/100 [Validation]: 100%|██████████| 63/63 [00:09<00:00,  6.57it/s]\n"
     ]
    },
    {
     "name": "stdout",
     "output_type": "stream",
     "text": [
      "Epoch [8/100]\n",
      "Train Loss: 0.4382, Train Accuracy: 0.7799\n",
      "Val Loss: 0.4283, Val Accuracy: 0.7783\n",
      "Precision: 0.7759, Recall: 0.7868, F1-Score: 0.7813\n"
     ]
    },
    {
     "name": "stderr",
     "output_type": "stream",
     "text": [
      "Epoch 9/100 [Training]: 100%|██████████| 290/290 [00:54<00:00,  5.34it/s]\n",
      "Epoch 9/100 [Validation]: 100%|██████████| 63/63 [00:09<00:00,  6.60it/s]\n"
     ]
    },
    {
     "name": "stdout",
     "output_type": "stream",
     "text": [
      "Epoch [9/100]\n",
      "Train Loss: 0.4206, Train Accuracy: 0.7826\n",
      "Val Loss: 0.4156, Val Accuracy: 0.7950\n",
      "Precision: 0.8096, Recall: 0.7748, F1-Score: 0.7918\n"
     ]
    },
    {
     "name": "stderr",
     "output_type": "stream",
     "text": [
      "Epoch 10/100 [Training]: 100%|██████████| 290/290 [00:55<00:00,  5.27it/s]\n",
      "Epoch 10/100 [Validation]: 100%|██████████| 63/63 [00:09<00:00,  6.67it/s]\n"
     ]
    },
    {
     "name": "stdout",
     "output_type": "stream",
     "text": [
      "Epoch [10/100]\n",
      "Train Loss: 0.4010, Train Accuracy: 0.7953\n",
      "Val Loss: 0.3990, Val Accuracy: 0.7889\n",
      "Precision: 0.7715, Recall: 0.8248, F1-Score: 0.7973\n",
      "Best model saved with validation recall: 0.8248\n"
     ]
    },
    {
     "name": "stderr",
     "output_type": "stream",
     "text": [
      "Epoch 11/100 [Training]: 100%|██████████| 290/290 [00:53<00:00,  5.37it/s]\n",
      "Epoch 11/100 [Validation]: 100%|██████████| 63/63 [00:09<00:00,  6.77it/s]\n"
     ]
    },
    {
     "name": "stdout",
     "output_type": "stream",
     "text": [
      "Epoch [11/100]\n",
      "Train Loss: 0.3841, Train Accuracy: 0.8128\n",
      "Val Loss: 0.4106, Val Accuracy: 0.7980\n",
      "Precision: 0.7646, Recall: 0.8649, F1-Score: 0.8116\n",
      "Best model saved with validation recall: 0.8649\n"
     ]
    },
    {
     "name": "stderr",
     "output_type": "stream",
     "text": [
      "Epoch 12/100 [Training]: 100%|██████████| 290/290 [00:55<00:00,  5.21it/s]\n",
      "Epoch 12/100 [Validation]: 100%|██████████| 63/63 [00:09<00:00,  6.63it/s]\n"
     ]
    },
    {
     "name": "stdout",
     "output_type": "stream",
     "text": [
      "Epoch [12/100]\n",
      "Train Loss: 0.3727, Train Accuracy: 0.8152\n",
      "Val Loss: 0.3869, Val Accuracy: 0.8065\n",
      "Precision: 0.8030, Recall: 0.8158, F1-Score: 0.8093\n"
     ]
    },
    {
     "name": "stderr",
     "output_type": "stream",
     "text": [
      "Epoch 13/100 [Training]: 100%|██████████| 290/290 [00:55<00:00,  5.22it/s]\n",
      "Epoch 13/100 [Validation]: 100%|██████████| 63/63 [00:09<00:00,  6.37it/s]\n"
     ]
    },
    {
     "name": "stdout",
     "output_type": "stream",
     "text": [
      "Epoch [13/100]\n",
      "Train Loss: 0.3616, Train Accuracy: 0.8214\n",
      "Val Loss: 0.3694, Val Accuracy: 0.8161\n",
      "Precision: 0.8025, Recall: 0.8418, F1-Score: 0.8217\n"
     ]
    },
    {
     "name": "stderr",
     "output_type": "stream",
     "text": [
      "Epoch 14/100 [Training]: 100%|██████████| 290/290 [00:54<00:00,  5.33it/s]\n",
      "Epoch 14/100 [Validation]: 100%|██████████| 63/63 [00:09<00:00,  6.56it/s]\n"
     ]
    },
    {
     "name": "stdout",
     "output_type": "stream",
     "text": [
      "Epoch [14/100]\n",
      "Train Loss: 0.3432, Train Accuracy: 0.8319\n",
      "Val Loss: 0.3880, Val Accuracy: 0.7975\n",
      "Precision: 0.7798, Recall: 0.8328, F1-Score: 0.8054\n"
     ]
    },
    {
     "name": "stderr",
     "output_type": "stream",
     "text": [
      "Epoch 15/100 [Training]: 100%|██████████| 290/290 [00:54<00:00,  5.27it/s]\n",
      "Epoch 15/100 [Validation]: 100%|██████████| 63/63 [00:09<00:00,  6.98it/s]\n"
     ]
    },
    {
     "name": "stdout",
     "output_type": "stream",
     "text": [
      "Epoch [15/100]\n",
      "Train Loss: 0.3356, Train Accuracy: 0.8360\n",
      "Val Loss: 0.3558, Val Accuracy: 0.8252\n",
      "Precision: 0.8333, Recall: 0.8158, F1-Score: 0.8245\n"
     ]
    },
    {
     "name": "stderr",
     "output_type": "stream",
     "text": [
      "Epoch 16/100 [Training]: 100%|██████████| 290/290 [00:52<00:00,  5.51it/s]\n",
      "Epoch 16/100 [Validation]: 100%|██████████| 63/63 [00:09<00:00,  7.00it/s]\n"
     ]
    },
    {
     "name": "stdout",
     "output_type": "stream",
     "text": [
      "Epoch [16/100]\n",
      "Train Loss: 0.3193, Train Accuracy: 0.8529\n",
      "Val Loss: 0.3714, Val Accuracy: 0.8071\n",
      "Precision: 0.7790, Recall: 0.8609, F1-Score: 0.8179\n"
     ]
    },
    {
     "name": "stderr",
     "output_type": "stream",
     "text": [
      "Epoch 17/100 [Training]: 100%|██████████| 290/290 [00:53<00:00,  5.45it/s]\n",
      "Epoch 17/100 [Validation]: 100%|██████████| 63/63 [00:08<00:00,  7.01it/s]\n"
     ]
    },
    {
     "name": "stdout",
     "output_type": "stream",
     "text": [
      "Epoch [17/100]\n",
      "Train Loss: 0.3132, Train Accuracy: 0.8536\n",
      "Val Loss: 0.3302, Val Accuracy: 0.8403\n",
      "Precision: 0.8350, Recall: 0.8509, F1-Score: 0.8428\n"
     ]
    },
    {
     "name": "stderr",
     "output_type": "stream",
     "text": [
      "Epoch 18/100 [Training]: 100%|██████████| 290/290 [00:52<00:00,  5.53it/s]\n",
      "Epoch 18/100 [Validation]: 100%|██████████| 63/63 [00:09<00:00,  6.84it/s]\n"
     ]
    },
    {
     "name": "stdout",
     "output_type": "stream",
     "text": [
      "Epoch [18/100]\n",
      "Train Loss: 0.2966, Train Accuracy: 0.8566\n",
      "Val Loss: 0.3417, Val Accuracy: 0.8277\n",
      "Precision: 0.8120, Recall: 0.8559, F1-Score: 0.8333\n"
     ]
    },
    {
     "name": "stderr",
     "output_type": "stream",
     "text": [
      "Epoch 19/100 [Training]: 100%|██████████| 290/290 [00:52<00:00,  5.54it/s]\n",
      "Epoch 19/100 [Validation]: 100%|██████████| 63/63 [00:09<00:00,  6.98it/s]\n"
     ]
    },
    {
     "name": "stdout",
     "output_type": "stream",
     "text": [
      "Epoch [19/100]\n",
      "Train Loss: 0.2937, Train Accuracy: 0.8602\n",
      "Val Loss: 0.3277, Val Accuracy: 0.8353\n",
      "Precision: 0.8692, Recall: 0.7918, F1-Score: 0.8287\n"
     ]
    },
    {
     "name": "stderr",
     "output_type": "stream",
     "text": [
      "Epoch 20/100 [Training]: 100%|██████████| 290/290 [00:52<00:00,  5.53it/s]\n",
      "Epoch 20/100 [Validation]: 100%|██████████| 63/63 [00:09<00:00,  6.92it/s]\n"
     ]
    },
    {
     "name": "stdout",
     "output_type": "stream",
     "text": [
      "Epoch [20/100]\n",
      "Train Loss: 0.2811, Train Accuracy: 0.8658\n",
      "Val Loss: 0.3367, Val Accuracy: 0.8433\n",
      "Precision: 0.8606, Recall: 0.8218, F1-Score: 0.8408\n"
     ]
    },
    {
     "name": "stderr",
     "output_type": "stream",
     "text": [
      "Epoch 21/100 [Training]: 100%|██████████| 290/290 [00:52<00:00,  5.52it/s]\n",
      "Epoch 21/100 [Validation]: 100%|██████████| 63/63 [00:09<00:00,  6.90it/s]\n"
     ]
    },
    {
     "name": "stdout",
     "output_type": "stream",
     "text": [
      "Epoch [21/100]\n",
      "Train Loss: 0.2682, Train Accuracy: 0.8738\n",
      "Val Loss: 0.3289, Val Accuracy: 0.8479\n",
      "Precision: 0.8242, Recall: 0.8869, F1-Score: 0.8544\n",
      "Best model saved with validation recall: 0.8869\n"
     ]
    },
    {
     "name": "stderr",
     "output_type": "stream",
     "text": [
      "Epoch 22/100 [Training]: 100%|██████████| 290/290 [00:53<00:00,  5.47it/s]\n",
      "Epoch 22/100 [Validation]: 100%|██████████| 63/63 [00:09<00:00,  6.90it/s]\n"
     ]
    },
    {
     "name": "stdout",
     "output_type": "stream",
     "text": [
      "Epoch [22/100]\n",
      "Train Loss: 0.2718, Train Accuracy: 0.8741\n",
      "Val Loss: 0.3230, Val Accuracy: 0.8433\n",
      "Precision: 0.8539, Recall: 0.8308, F1-Score: 0.8422\n"
     ]
    },
    {
     "name": "stderr",
     "output_type": "stream",
     "text": [
      "Epoch 23/100 [Training]: 100%|██████████| 290/290 [00:52<00:00,  5.52it/s]\n",
      "Epoch 23/100 [Validation]: 100%|██████████| 63/63 [00:09<00:00,  6.90it/s]\n"
     ]
    },
    {
     "name": "stdout",
     "output_type": "stream",
     "text": [
      "Epoch [23/100]\n",
      "Train Loss: 0.2577, Train Accuracy: 0.8822\n",
      "Val Loss: 0.3248, Val Accuracy: 0.8509\n",
      "Precision: 0.8554, Recall: 0.8468, F1-Score: 0.8511\n"
     ]
    },
    {
     "name": "stderr",
     "output_type": "stream",
     "text": [
      "Epoch 24/100 [Training]: 100%|██████████| 290/290 [00:52<00:00,  5.54it/s]\n",
      "Epoch 24/100 [Validation]: 100%|██████████| 63/63 [00:09<00:00,  6.96it/s]\n"
     ]
    },
    {
     "name": "stdout",
     "output_type": "stream",
     "text": [
      "Epoch [24/100]\n",
      "Train Loss: 0.2467, Train Accuracy: 0.8835\n",
      "Val Loss: 0.3271, Val Accuracy: 0.8398\n",
      "Precision: 0.8361, Recall: 0.8478, F1-Score: 0.8419\n"
     ]
    },
    {
     "name": "stderr",
     "output_type": "stream",
     "text": [
      "Epoch 25/100 [Training]: 100%|██████████| 290/290 [00:52<00:00,  5.53it/s]\n",
      "Epoch 25/100 [Validation]: 100%|██████████| 63/63 [00:09<00:00,  6.92it/s]\n"
     ]
    },
    {
     "name": "stdout",
     "output_type": "stream",
     "text": [
      "Epoch [25/100]\n",
      "Train Loss: 0.2452, Train Accuracy: 0.8846\n",
      "Val Loss: 0.3245, Val Accuracy: 0.8418\n",
      "Precision: 0.8527, Recall: 0.8288, F1-Score: 0.8406\n"
     ]
    },
    {
     "name": "stderr",
     "output_type": "stream",
     "text": [
      "Epoch 26/100 [Training]: 100%|██████████| 290/290 [00:52<00:00,  5.49it/s]\n",
      "Epoch 26/100 [Validation]: 100%|██████████| 63/63 [00:09<00:00,  6.91it/s]\n"
     ]
    },
    {
     "name": "stdout",
     "output_type": "stream",
     "text": [
      "Epoch [26/100]\n",
      "Train Loss: 0.2382, Train Accuracy: 0.8897\n",
      "Val Loss: 0.3269, Val Accuracy: 0.8499\n",
      "Precision: 0.8474, Recall: 0.8559, F1-Score: 0.8516\n"
     ]
    },
    {
     "name": "stderr",
     "output_type": "stream",
     "text": [
      "Epoch 27/100 [Training]: 100%|██████████| 290/290 [00:52<00:00,  5.51it/s]\n",
      "Epoch 27/100 [Validation]: 100%|██████████| 63/63 [00:09<00:00,  6.94it/s]\n"
     ]
    },
    {
     "name": "stdout",
     "output_type": "stream",
     "text": [
      "Epoch [27/100]\n",
      "Train Loss: 0.2296, Train Accuracy: 0.8947\n",
      "Val Loss: 0.3756, Val Accuracy: 0.8272\n",
      "Precision: 0.8065, Recall: 0.8639, F1-Score: 0.8342\n"
     ]
    },
    {
     "name": "stderr",
     "output_type": "stream",
     "text": [
      "Epoch 28/100 [Training]: 100%|██████████| 290/290 [00:52<00:00,  5.49it/s]\n",
      "Epoch 28/100 [Validation]: 100%|██████████| 63/63 [00:09<00:00,  6.93it/s]\n"
     ]
    },
    {
     "name": "stdout",
     "output_type": "stream",
     "text": [
      "Epoch [28/100]\n",
      "Train Loss: 0.2236, Train Accuracy: 0.8985\n",
      "Val Loss: 0.3050, Val Accuracy: 0.8499\n",
      "Precision: 0.8625, Recall: 0.8348, F1-Score: 0.8484\n"
     ]
    },
    {
     "name": "stderr",
     "output_type": "stream",
     "text": [
      "Epoch 29/100 [Training]: 100%|██████████| 290/290 [00:52<00:00,  5.54it/s]\n",
      "Epoch 29/100 [Validation]: 100%|██████████| 63/63 [00:09<00:00,  6.92it/s]\n"
     ]
    },
    {
     "name": "stdout",
     "output_type": "stream",
     "text": [
      "Epoch [29/100]\n",
      "Train Loss: 0.2216, Train Accuracy: 0.8980\n",
      "Val Loss: 0.3148, Val Accuracy: 0.8443\n",
      "Precision: 0.8506, Recall: 0.8378, F1-Score: 0.8442\n"
     ]
    },
    {
     "name": "stderr",
     "output_type": "stream",
     "text": [
      "Epoch 30/100 [Training]: 100%|██████████| 290/290 [00:52<00:00,  5.51it/s]\n",
      "Epoch 30/100 [Validation]: 100%|██████████| 63/63 [00:09<00:00,  6.97it/s]\n"
     ]
    },
    {
     "name": "stdout",
     "output_type": "stream",
     "text": [
      "Epoch [30/100]\n",
      "Train Loss: 0.2177, Train Accuracy: 0.8986\n",
      "Val Loss: 0.3153, Val Accuracy: 0.8469\n",
      "Precision: 0.8371, Recall: 0.8639, F1-Score: 0.8502\n"
     ]
    },
    {
     "name": "stderr",
     "output_type": "stream",
     "text": [
      "Epoch 31/100 [Training]: 100%|██████████| 290/290 [00:52<00:00,  5.49it/s]\n",
      "Epoch 31/100 [Validation]: 100%|██████████| 63/63 [00:09<00:00,  6.91it/s]\n"
     ]
    },
    {
     "name": "stdout",
     "output_type": "stream",
     "text": [
      "Epoch [31/100]\n",
      "Train Loss: 0.2179, Train Accuracy: 0.8961\n",
      "Val Loss: 0.2933, Val Accuracy: 0.8665\n",
      "Precision: 0.8722, Recall: 0.8609, F1-Score: 0.8665\n"
     ]
    },
    {
     "name": "stderr",
     "output_type": "stream",
     "text": [
      "Epoch 32/100 [Training]: 100%|██████████| 290/290 [00:52<00:00,  5.49it/s]\n",
      "Epoch 32/100 [Validation]: 100%|██████████| 63/63 [00:09<00:00,  6.94it/s]\n"
     ]
    },
    {
     "name": "stdout",
     "output_type": "stream",
     "text": [
      "Epoch [32/100]\n",
      "Train Loss: 0.2000, Train Accuracy: 0.9070\n",
      "Val Loss: 0.3100, Val Accuracy: 0.8519\n",
      "Precision: 0.8536, Recall: 0.8519, F1-Score: 0.8527\n"
     ]
    },
    {
     "name": "stderr",
     "output_type": "stream",
     "text": [
      "Epoch 33/100 [Training]: 100%|██████████| 290/290 [00:52<00:00,  5.51it/s]\n",
      "Epoch 33/100 [Validation]: 100%|██████████| 63/63 [00:09<00:00,  6.97it/s]\n"
     ]
    },
    {
     "name": "stdout",
     "output_type": "stream",
     "text": [
      "Epoch [33/100]\n",
      "Train Loss: 0.1990, Train Accuracy: 0.9079\n",
      "Val Loss: 0.3227, Val Accuracy: 0.8529\n",
      "Precision: 0.8709, Recall: 0.8308, F1-Score: 0.8504\n"
     ]
    },
    {
     "name": "stderr",
     "output_type": "stream",
     "text": [
      "Epoch 34/100 [Training]: 100%|██████████| 290/290 [00:52<00:00,  5.51it/s]\n",
      "Epoch 34/100 [Validation]: 100%|██████████| 63/63 [00:09<00:00,  6.83it/s]\n"
     ]
    },
    {
     "name": "stdout",
     "output_type": "stream",
     "text": [
      "Epoch [34/100]\n",
      "Train Loss: 0.1950, Train Accuracy: 0.9087\n",
      "Val Loss: 0.3320, Val Accuracy: 0.8534\n",
      "Precision: 0.8718, Recall: 0.8308, F1-Score: 0.8508\n"
     ]
    },
    {
     "name": "stderr",
     "output_type": "stream",
     "text": [
      "Epoch 35/100 [Training]: 100%|██████████| 290/290 [00:53<00:00,  5.47it/s]\n",
      "Epoch 35/100 [Validation]: 100%|██████████| 63/63 [00:09<00:00,  6.83it/s]\n"
     ]
    },
    {
     "name": "stdout",
     "output_type": "stream",
     "text": [
      "Epoch [35/100]\n",
      "Train Loss: 0.1880, Train Accuracy: 0.9158\n",
      "Val Loss: 0.3361, Val Accuracy: 0.8433\n",
      "Precision: 0.8723, Recall: 0.8068, F1-Score: 0.8383\n"
     ]
    },
    {
     "name": "stderr",
     "output_type": "stream",
     "text": [
      "Epoch 36/100 [Training]: 100%|██████████| 290/290 [00:53<00:00,  5.47it/s]\n",
      "Epoch 36/100 [Validation]: 100%|██████████| 63/63 [00:09<00:00,  6.89it/s]\n"
     ]
    },
    {
     "name": "stdout",
     "output_type": "stream",
     "text": [
      "Epoch [36/100]\n",
      "Train Loss: 0.1805, Train Accuracy: 0.9170\n",
      "Val Loss: 0.3426, Val Accuracy: 0.8499\n",
      "Precision: 0.8406, Recall: 0.8659, F1-Score: 0.8531\n"
     ]
    },
    {
     "name": "stderr",
     "output_type": "stream",
     "text": [
      "Epoch 37/100 [Training]: 100%|██████████| 290/290 [00:53<00:00,  5.46it/s]\n",
      "Epoch 37/100 [Validation]: 100%|██████████| 63/63 [00:09<00:00,  6.86it/s]\n"
     ]
    },
    {
     "name": "stdout",
     "output_type": "stream",
     "text": [
      "Epoch [37/100]\n",
      "Train Loss: 0.1803, Train Accuracy: 0.9193\n",
      "Val Loss: 0.3282, Val Accuracy: 0.8534\n",
      "Precision: 0.8688, Recall: 0.8348, F1-Score: 0.8515\n"
     ]
    },
    {
     "name": "stderr",
     "output_type": "stream",
     "text": [
      "Epoch 38/100 [Training]: 100%|██████████| 290/290 [00:52<00:00,  5.49it/s]\n",
      "Epoch 38/100 [Validation]: 100%|██████████| 63/63 [00:09<00:00,  6.87it/s]\n"
     ]
    },
    {
     "name": "stdout",
     "output_type": "stream",
     "text": [
      "Epoch [38/100]\n",
      "Train Loss: 0.1848, Train Accuracy: 0.9150\n",
      "Val Loss: 0.3195, Val Accuracy: 0.8499\n",
      "Precision: 0.8551, Recall: 0.8448, F1-Score: 0.8499\n"
     ]
    },
    {
     "name": "stderr",
     "output_type": "stream",
     "text": [
      "Epoch 39/100 [Training]: 100%|██████████| 290/290 [00:52<00:00,  5.48it/s]\n",
      "Epoch 39/100 [Validation]: 100%|██████████| 63/63 [00:09<00:00,  6.82it/s]\n"
     ]
    },
    {
     "name": "stdout",
     "output_type": "stream",
     "text": [
      "Epoch [39/100]\n",
      "Train Loss: 0.1747, Train Accuracy: 0.9245\n",
      "Val Loss: 0.3336, Val Accuracy: 0.8579\n",
      "Precision: 0.8574, Recall: 0.8609, F1-Score: 0.8591\n"
     ]
    },
    {
     "name": "stderr",
     "output_type": "stream",
     "text": [
      "Epoch 40/100 [Training]: 100%|██████████| 290/290 [00:53<00:00,  5.46it/s]\n",
      "Epoch 40/100 [Validation]: 100%|██████████| 63/63 [00:09<00:00,  6.89it/s]\n"
     ]
    },
    {
     "name": "stdout",
     "output_type": "stream",
     "text": [
      "Epoch [40/100]\n",
      "Train Loss: 0.1718, Train Accuracy: 0.9201\n",
      "Val Loss: 0.3384, Val Accuracy: 0.8544\n",
      "Precision: 0.8515, Recall: 0.8609, F1-Score: 0.8561\n"
     ]
    },
    {
     "name": "stderr",
     "output_type": "stream",
     "text": [
      "Epoch 41/100 [Training]: 100%|██████████| 290/290 [00:52<00:00,  5.49it/s]\n",
      "Epoch 41/100 [Validation]: 100%|██████████| 63/63 [00:09<00:00,  6.88it/s]\n"
     ]
    },
    {
     "name": "stdout",
     "output_type": "stream",
     "text": [
      "Epoch [41/100]\n",
      "Train Loss: 0.1640, Train Accuracy: 0.9239\n",
      "Val Loss: 0.3216, Val Accuracy: 0.8534\n",
      "Precision: 0.8612, Recall: 0.8448, F1-Score: 0.8530\n",
      "Early stopping triggered after 41 epochs.\n"
     ]
    },
    {
     "data": {
      "image/png": "[encoded data removed]",
      "text/plain": [
       "<Figure size 1200x500 with 2 Axes>"
      ]
     },
     "metadata": {},
     "output_type": "display_data"
    },
    {
     "name": "stdout",
     "output_type": "stream",
     "text": [
      "Test Precision: 0.8106, Test Recall: 0.8890, Test F1-Score: 0.8480\n"
     ]
    },
    {
     "data": {
      "image/png": "[encoded data removed]",
      "text/plain": [
       "<Figure size 640x480 with 2 Axes>"
      ]
     },
     "metadata": {},
     "output_type": "display_data"
    },
    {
     "ename": "NameError",
     "evalue": "name 'roc_curve' is not defined",
     "output_type": "error",
     "traceback": [
      "\u001b[0;31m---------------------------------------------------------------------------\u001b[0m",
      "\u001b[0;31mNameError\u001b[0m                                 Traceback (most recent call last)",
      "Cell \u001b[0;32mIn [16], line 8\u001b[0m\n\u001b[1;32m      5\u001b[0m model\u001b[38;5;241m.\u001b[39mload_state_dict(torch\u001b[38;5;241m.\u001b[39mload(\u001b[38;5;124m'\u001b[39m\u001b[38;5;124mbest_model_cnn.pth\u001b[39m\u001b[38;5;124m'\u001b[39m))\n\u001b[1;32m      7\u001b[0m \u001b[38;5;66;03m# Evaluating the model on the test set\u001b[39;00m\n\u001b[0;32m----> 8\u001b[0m \u001b[43mevaluate_model\u001b[49m\u001b[43m(\u001b[49m\u001b[43mmodel\u001b[49m\u001b[43m,\u001b[49m\u001b[43m \u001b[49m\u001b[43mtest_loader\u001b[49m\u001b[43m,\u001b[49m\u001b[43m \u001b[49m\u001b[43mdevice\u001b[49m\u001b[43m)\u001b[49m\n",
      "Cell \u001b[0;32mIn [14], line 168\u001b[0m, in \u001b[0;36mevaluate_model\u001b[0;34m(model, test_loader, device)\u001b[0m\n\u001b[1;32m    165\u001b[0m plt\u001b[38;5;241m.\u001b[39mshow()\n\u001b[1;32m    167\u001b[0m \u001b[38;5;66;03m# ROC-AUC curve\u001b[39;00m\n\u001b[0;32m--> 168\u001b[0m fpr, tpr, _ \u001b[38;5;241m=\u001b[39m \u001b[43mroc_curve\u001b[49m(all_labels, all_probs)\n\u001b[1;32m    169\u001b[0m roc_auc \u001b[38;5;241m=\u001b[39m auc(fpr, tpr)\n\u001b[1;32m    170\u001b[0m plt\u001b[38;5;241m.\u001b[39mfigure()\n",
      "\u001b[0;31mNameError\u001b[0m: name 'roc_curve' is not defined"
     ]
    }
   ],
   "source": [
    "# Training the model with early stopping\n",
    "train_model(model, train_loader, val_loader, device, num_epochs=100)\n",
    "\n",
    "# Loading the best model for evaluation\n",
    "model.load_state_dict(torch.load('best_model_cnn.pth'))"
   ]
  },
  {
   "cell_type": "code",
   "execution_count": null,
   "id": "8ecdbf96",
   "metadata": {},
   "outputs": [],
   "source": []
  }
 ],
 "metadata": {
  "kernelspec": {
   "display_name": "Python 3",
   "language": "python",
   "name": "python3"
  },
  "language_info": {
   "codemirror_mode": {
    "name": "ipython",
    "version": 3
   },
   "file_extension": ".py",
   "mimetype": "text/x-python",
   "name": "python",
   "nbconvert_exporter": "python",
   "pygments_lexer": "ipython3",
   "version": "3.11.2"
  }
 },
 "nbformat": 4,
 "nbformat_minor": 5
}
