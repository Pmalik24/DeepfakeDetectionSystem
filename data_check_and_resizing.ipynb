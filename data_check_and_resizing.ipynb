{
 "cells": [
  {
   "cell_type": "code",
   "execution_count": 1,
   "metadata": {},
   "outputs": [],
   "source": [
    "from PIL import Image\n",
    "import os\n"
   ]
  },
  {
   "cell_type": "code",
   "execution_count": 5,
   "metadata": {},
   "outputs": [
    {
     "name": "stdout",
     "output_type": "stream",
     "text": [
      "Image: 217_10.png | Size: (128, 128)\n"
     ]
    }
   ],
   "source": [
    "\n",
    "# Path to your image folder\n",
    "image_folder = 'final_cleaned_dataset/real'\n",
    "\n",
    "# Get the first image from the folder\n",
    "for image_name in os.listdir(image_folder):\n",
    "    if image_name.endswith(('.png', '.jpg', '.jpeg')):\n",
    "        img_path = os.path.join(image_folder, image_name)\n",
    "        with Image.open(img_path) as img:\n",
    "            print(f\"Image: {image_name} | Size: {img.size}\")  # img.size returns (width, height)\n",
    "            break"
   ]
  },
  {
   "cell_type": "markdown",
   "metadata": {},
   "source": [
    "### As the pretrained VIT we are using the `google/vit-base-patch16-224` expects images being in 224 x 224 size, we are resizing are 128 x 128 images to the expected size."
   ]
  },
  {
   "cell_type": "code",
   "execution_count": 6,
   "metadata": {},
   "outputs": [],
   "source": [
    "# Define paths to the real and fake image folders\n",
    "real_images_path = 'final_cleaned_dataset/real'\n",
    "fake_images_path = 'final_cleaned_dataset/fake'\n",
    "\n",
    "# Define output paths for resized images\n",
    "resized_real_images_path = 'final_cleaned_dataset/rezised_real'\n",
    "resized_fake_images_path = 'final_cleaned_dataset/rezised_fake'\n",
    "\n",
    "# Ensure the output directories exist\n",
    "os.makedirs(resized_real_images_path, exist_ok=True)\n",
    "os.makedirs(resized_fake_images_path, exist_ok=True)\n",
    "\n",
    "# Resize dimensions (224x224)\n",
    "new_size = (224, 224)"
   ]
  },
  {
   "cell_type": "code",
   "execution_count": 7,
   "metadata": {},
   "outputs": [
    {
     "name": "stderr",
     "output_type": "stream",
     "text": [
      "/var/folders/jb/rytm79zx10zcs2wb4zr2ptxr0000gn/T/ipykernel_84244/390428355.py:12: DeprecationWarning: ANTIALIAS is deprecated and will be removed in Pillow 10 (2023-07-01). Use LANCZOS or Resampling.LANCZOS instead.\n",
      "  resized_img = img.resize(new_size, Image.ANTIALIAS)\n"
     ]
    },
    {
     "name": "stdout",
     "output_type": "stream",
     "text": [
      "Resizing completed!\n"
     ]
    }
   ],
   "source": [
    "def resize_images(input_folder, output_folder):\n",
    "    # Iterate over all files in the input folder\n",
    "    for image_name in os.listdir(input_folder):\n",
    "        # Full path to the image\n",
    "        image_path = os.path.join(input_folder, image_name)\n",
    "        \n",
    "        # Check if the file is an image (e.g., ends with .jpg, .png, etc.)\n",
    "        if image_name.endswith(('.png', '.jpg', '.jpeg')):\n",
    "            # Open the image\n",
    "            with Image.open(image_path) as img:\n",
    "                # Resize the image\n",
    "                resized_img = img.resize(new_size, Image.ANTIALIAS)\n",
    "                \n",
    "                # Save the resized image to the output folder\n",
    "                resized_img.save(os.path.join(output_folder, image_name))\n",
    "\n",
    "# Resize the real images and save to 'resized_real'\n",
    "resize_images(real_images_path, resized_real_images_path)\n",
    "\n",
    "# Resize the fake images and save to 'resized_fake'\n",
    "resize_images(fake_images_path, resized_fake_images_path)\n",
    "\n",
    "print(\"Resizing completed!\")"
   ]
  },
  {
   "cell_type": "code",
   "execution_count": null,
   "metadata": {},
   "outputs": [],
   "source": []
  }
 ],
 "metadata": {
  "kernelspec": {
   "display_name": "Python 3",
   "language": "python",
   "name": "python3"
  },
  "language_info": {
   "codemirror_mode": {
    "name": "ipython",
    "version": 3
   },
   "file_extension": ".py",
   "mimetype": "text/x-python",
   "name": "python",
   "nbconvert_exporter": "python",
   "pygments_lexer": "ipython3",
   "version": "3.11.2"
  }
 },
 "nbformat": 4,
 "nbformat_minor": 2
}
