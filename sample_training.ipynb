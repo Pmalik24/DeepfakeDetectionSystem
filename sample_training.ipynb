{
 "cells": [
  {
   "cell_type": "code",
   "execution_count": 1,
   "metadata": {},
   "outputs": [],
   "source": [
    "import os\n",
    "import torch\n",
    "from torch.utils.data import DataLoader, Dataset\n",
    "from torchvision import transforms\n",
    "from PIL import Image\n",
    "from tqdm import tqdm"
   ]
  },
  {
   "cell_type": "code",
   "execution_count": 2,
   "metadata": {},
   "outputs": [],
   "source": [
    "# Custom dataset class for loading images\n",
    "class ImageDataset(Dataset):\n",
    "    def __init__(self, real_dir, fake_dir, transform=None):\n",
    "        self.real_dir = real_dir\n",
    "        self.fake_dir = fake_dir\n",
    "        self.transform = transform\n",
    "        \n",
    "        # Get image paths for real and fake images\n",
    "        self.real_images = os.listdir(real_dir)\n",
    "        self.fake_images = os.listdir(fake_dir)\n",
    "        \n",
    "        # Create full paths for the images and assign labels\n",
    "        self.image_paths = [os.path.join(real_dir, img) for img in self.real_images] + \\\n",
    "                           [os.path.join(fake_dir, img) for img in self.fake_images]\n",
    "        \n",
    "        # 0 for real, 1 for fake\n",
    "        self.labels = [0] * len(self.real_images) + [1] * len(self.fake_images)\n",
    "\n",
    "    def __len__(self):\n",
    "        return len(self.image_paths)\n",
    "\n",
    "    def __getitem__(self, idx):\n",
    "        image_path = self.image_paths[idx]\n",
    "        label = self.labels[idx]\n",
    "        image = Image.open(image_path).convert(\"RGB\")\n",
    "        \n",
    "        if self.transform:\n",
    "            image = self.transform(image)\n",
    "        \n",
    "        return image, label"
   ]
  },
  {
   "cell_type": "code",
   "execution_count": 3,
   "metadata": {},
   "outputs": [],
   "source": [
    "from torchvision import transforms\n",
    "\n",
    "# Enhanced Data Augmentation for Training\n",
    "train_transform = transforms.Compose([\n",
    "    transforms.Resize((224, 224)),  # Resizes images to 224x224\n",
    "    transforms.RandomHorizontalFlip(),  # Flip images horizontally\n",
    "    transforms.RandomRotation(15),  # Rotate images by up to 15 degrees\n",
    "    transforms.ColorJitter(brightness=0.2, contrast=0.2, saturation=0.2, hue=0.1),  # Change brightness, contrast, etc.\n",
    "    transforms.RandomAffine(degrees=5, translate=(0.1, 0.1), scale=(0.9, 1.1)),  # Small affine transformations (rotation, translation, etc.)\n",
    "    transforms.RandomCrop(224, padding=10),  # Random crop with padding for more variance\n",
    "    transforms.ToTensor(),  # Converts image to tensor, scales pixel values to [0, 1]\n",
    "    transforms.Normalize([0.485, 0.456, 0.406], [0.229, 0.224, 0.225])  # Normalize with ImageNet stats THIS IS KEY HERE AS WE ARE USING A PRETRAINED MODEL\n",
    "])\n",
    "\n",
    "val_test_transform = transforms.Compose([\n",
    "    transforms.Resize((224, 224)),\n",
    "    transforms.ToTensor(),\n",
    "    transforms.Normalize([0.485, 0.456, 0.406], [0.229, 0.224, 0.225])\n",
    "])"
   ]
  },
  {
   "cell_type": "code",
   "execution_count": 4,
   "metadata": {},
   "outputs": [],
   "source": [
    "from sklearn.model_selection import train_test_split\n",
    "\n",
    "# Define paths to your real and fake image directories\n",
    "real_dir = 'final_cleaned_dataset/resized_data/rezised_real'\n",
    "fake_dir = 'final_cleaned_dataset/resized_data/rezised_fake'\n",
    "\n",
    "# Create the full dataset\n",
    "full_dataset = ImageDataset(real_dir, fake_dir, transform=train_transform)\n",
    "\n",
    "# Split the dataset into training (75%), validation (15%), and testing (15%)\n",
    "train_indices, test_indices = train_test_split(range(len(full_dataset)), test_size=0.3, random_state=42, stratify=full_dataset.labels)\n",
    "val_indices, test_indices = train_test_split(test_indices, test_size=0.5, random_state=42, stratify=[full_dataset.labels[i] for i in test_indices])\n",
    "\n",
    "# Create Subsets for train/val/test\n",
    "train_dataset = torch.utils.data.Subset(full_dataset, train_indices)\n",
    "val_dataset = torch.utils.data.Subset(full_dataset, val_indices)\n",
    "test_dataset = torch.utils.data.Subset(full_dataset, test_indices)\n",
    "\n",
    "# DataLoaders for each set\n",
    "train_loader = DataLoader(train_dataset, batch_size=32, shuffle=True)\n",
    "val_loader = DataLoader(val_dataset, batch_size=32, shuffle=False)\n",
    "test_loader = DataLoader(test_dataset, batch_size=32, shuffle=False)"
   ]
  },
  {
   "cell_type": "code",
   "execution_count": 5,
   "metadata": {},
   "outputs": [
    {
     "name": "stderr",
     "output_type": "stream",
     "text": [
      "Some weights of ViTForImageClassification were not initialized from the model checkpoint at google/vit-base-patch16-224 and are newly initialized because the shapes did not match:\n",
      "- classifier.bias: found shape torch.Size([1000]) in the checkpoint and torch.Size([2]) in the model instantiated\n",
      "- classifier.weight: found shape torch.Size([1000, 768]) in the checkpoint and torch.Size([2, 768]) in the model instantiated\n",
      "You should probably TRAIN this model on a down-stream task to be able to use it for predictions and inference.\n"
     ]
    },
    {
     "data": {
      "text/plain": [
       "ViTForImageClassification(\n",
       "  (vit): ViTModel(\n",
       "    (embeddings): ViTEmbeddings(\n",
       "      (patch_embeddings): ViTPatchEmbeddings(\n",
       "        (projection): Conv2d(3, 768, kernel_size=(16, 16), stride=(16, 16))\n",
       "      )\n",
       "      (dropout): Dropout(p=0.0, inplace=False)\n",
       "    )\n",
       "    (encoder): ViTEncoder(\n",
       "      (layer): ModuleList(\n",
       "        (0-11): 12 x ViTLayer(\n",
       "          (attention): ViTAttention(\n",
       "            (attention): ViTSelfAttention(\n",
       "              (query): Linear(in_features=768, out_features=768, bias=True)\n",
       "              (key): Linear(in_features=768, out_features=768, bias=True)\n",
       "              (value): Linear(in_features=768, out_features=768, bias=True)\n",
       "              (dropout): Dropout(p=0.0, inplace=False)\n",
       "            )\n",
       "            (output): ViTSelfOutput(\n",
       "              (dense): Linear(in_features=768, out_features=768, bias=True)\n",
       "              (dropout): Dropout(p=0.0, inplace=False)\n",
       "            )\n",
       "          )\n",
       "          (intermediate): ViTIntermediate(\n",
       "            (dense): Linear(in_features=768, out_features=3072, bias=True)\n",
       "            (intermediate_act_fn): GELUActivation()\n",
       "          )\n",
       "          (output): ViTOutput(\n",
       "            (dense): Linear(in_features=3072, out_features=768, bias=True)\n",
       "            (dropout): Dropout(p=0.0, inplace=False)\n",
       "          )\n",
       "          (layernorm_before): LayerNorm((768,), eps=1e-12, elementwise_affine=True)\n",
       "          (layernorm_after): LayerNorm((768,), eps=1e-12, elementwise_affine=True)\n",
       "        )\n",
       "      )\n",
       "    )\n",
       "    (layernorm): LayerNorm((768,), eps=1e-12, elementwise_affine=True)\n",
       "  )\n",
       "  (classifier): Linear(in_features=768, out_features=2, bias=True)\n",
       ")"
      ]
     },
     "execution_count": 5,
     "metadata": {},
     "output_type": "execute_result"
    }
   ],
   "source": [
    "from transformers import AutoModelForImageClassification, AutoImageProcessor\n",
    "\n",
    "# Load the pretrained ViT model for binary classification\n",
    "processor = AutoImageProcessor.from_pretrained(\"google/vit-base-patch16-224\")\n",
    "model = AutoModelForImageClassification.from_pretrained(\"google/vit-base-patch16-224\", num_labels=2, ignore_mismatched_sizes=True)\n",
    "\n",
    "# Move the model to the GPU if available (MPS for Mac M1)\n",
    "device = torch.device(\"mps\" if torch.backends.mps.is_available() else \"cpu\")\n",
    "model.to(device)"
   ]
  },
  {
   "cell_type": "code",
   "execution_count": 6,
   "metadata": {},
   "outputs": [],
   "source": [
    "# Freeze all layers except the classifier\n",
    "for param in model.parameters():\n",
    "    param.requires_grad = False\n",
    "\n",
    "# Unfreeze the classifier layer so it can be trained\n",
    "for param in model.classifier.parameters():\n",
    "    param.requires_grad = True"
   ]
  },
  {
   "cell_type": "code",
   "execution_count": 7,
   "metadata": {},
   "outputs": [],
   "source": [
    "import torch.optim as optim\n",
    "import torch.nn as nn\n",
    "import matplotlib.pyplot as plt\n",
    "from sklearn.metrics import precision_recall_fscore_support, confusion_matrix"
   ]
  },
  {
   "cell_type": "code",
   "execution_count": 8,
   "metadata": {},
   "outputs": [],
   "source": [
    "def train_model(\n",
    "    model,            # The PyTorch model to train\n",
    "    train_loader,     # DataLoader for training data\n",
    "    val_loader,       # DataLoader for validation data\n",
    "    device,           # Device (cpu, mps, or cuda)\n",
    "    num_epochs=10,    # Number of epochs to train for\n",
    "    lr=1e-4,          # Learning rate\n",
    "    model_save_path='best_model.pth'  # Path to save the best model\n",
    "):\n",
    "    # Define the optimizer and loss function\n",
    "    optimizer = optim.AdamW(model.classifier.parameters(), lr=lr)\n",
    "    loss_fn = nn.CrossEntropyLoss()  # Cross-entropy loss for binary classification\n",
    "\n",
    "    # Lists to store metrics\n",
    "    train_losses = []\n",
    "    val_losses = []\n",
    "    train_accuracies = []\n",
    "    val_accuracies = []\n",
    "\n",
    "    best_val_recall = 0.0  # To track the model with the best recall\n",
    "\n",
    "    for epoch in range(num_epochs):\n",
    "        model.train()  # Set model to training mode\n",
    "        running_loss = 0.0\n",
    "        correct_predictions = 0\n",
    "        total_samples = 0\n",
    "\n",
    "        # Training loop with tqdm progress bar\n",
    "        for images, labels in tqdm(train_loader, desc=f\"Epoch {epoch+1}/{num_epochs} [Training]\"):\n",
    "            images, labels = images.to(device), labels.to(device)\n",
    "\n",
    "            optimizer.zero_grad()  # Zero the gradients\n",
    "\n",
    "            # Forward pass\n",
    "            outputs = model(images).logits\n",
    "            loss = loss_fn(outputs, labels)\n",
    "\n",
    "            # Backward pass and optimize\n",
    "            loss.backward()\n",
    "            optimizer.step()\n",
    "\n",
    "            # Track loss and accuracy\n",
    "            running_loss += loss.item() * images.size(0)\n",
    "            _, predicted = torch.max(outputs, 1)\n",
    "            correct_predictions += (predicted == labels).sum().item()\n",
    "            total_samples += labels.size(0)\n",
    "\n",
    "        # Calculate average loss and accuracy for the epoch\n",
    "        epoch_train_loss = running_loss / total_samples\n",
    "        epoch_train_accuracy = correct_predictions / total_samples\n",
    "        train_losses.append(epoch_train_loss)\n",
    "        train_accuracies.append(epoch_train_accuracy)\n",
    "\n",
    "        # Validation loop\n",
    "        model.eval()\n",
    "        val_loss = 0.0\n",
    "        val_correct_predictions = 0\n",
    "        val_total_samples = 0\n",
    "        all_labels = []\n",
    "        all_predictions = []\n",
    "        with torch.no_grad():\n",
    "            for val_images, val_labels in tqdm(val_loader, desc=f\"Epoch {epoch+1}/{num_epochs} [Validation]\"):\n",
    "                val_images, val_labels = val_images.to(device), val_labels.to(device)\n",
    "\n",
    "                val_outputs = model(val_images).logits\n",
    "                loss = loss_fn(val_outputs, val_labels)\n",
    "\n",
    "                # Track validation loss and accuracy\n",
    "                val_loss += loss.item() * val_images.size(0)\n",
    "                _, val_predicted = torch.max(val_outputs, 1)\n",
    "                val_correct_predictions += (val_predicted == val_labels).sum().item()\n",
    "                val_total_samples += val_labels.size(0)\n",
    "\n",
    "                # Collect labels and predictions for metrics calculation\n",
    "                all_labels.extend(val_labels.cpu().numpy())\n",
    "                all_predictions.extend(val_predicted.cpu().numpy())\n",
    "\n",
    "        # Calculate average validation loss and accuracy\n",
    "        epoch_val_loss = val_loss / val_total_samples\n",
    "        epoch_val_accuracy = val_correct_predictions / val_total_samples\n",
    "        val_losses.append(epoch_val_loss)\n",
    "        val_accuracies.append(epoch_val_accuracy)\n",
    "\n",
    "        # Calculate precision, recall, f1, and support using sklearn\n",
    "        precision, recall, f1, _ = precision_recall_fscore_support(all_labels, all_predictions, average='binary')\n",
    "\n",
    "        print(f'Epoch [{epoch+1}/{num_epochs}]')\n",
    "        print(f'Train Loss: {epoch_train_loss:.4f}, Train Accuracy: {epoch_train_accuracy:.4f}')\n",
    "        print(f'Val Loss: {epoch_val_loss:.4f}, Val Accuracy: {epoch_val_accuracy:.4f}')\n",
    "        print(f'Val Precision: {precision:.4f}, Val Recall: {recall:.4f}, Val F1-Score: {f1:.4f}')\n",
    "\n",
    "        # Save the model if it has the best recall\n",
    "        if recall > best_val_recall:\n",
    "            best_val_recall = recall\n",
    "            torch.save(model.state_dict(), model_save_path)\n",
    "            print(f'Saved best model with validation recall: {best_val_recall:.4f}')\n",
    "\n",
    "    # Visualize loss and accuracy curves\n",
    "    plt.figure(figsize=(12, 5))\n",
    "    plt.subplot(1, 2, 1)\n",
    "    plt.plot(range(1, num_epochs + 1), train_losses, label='Train Loss')\n",
    "    plt.plot(range(1, num_epochs + 1), val_losses, label='Validation Loss')\n",
    "    plt.title('Loss over Epochs')\n",
    "    plt.xlabel('Epoch')\n",
    "    plt.ylabel('Loss')\n",
    "    plt.legend()\n",
    "\n",
    "    plt.subplot(1, 2, 2)\n",
    "    plt.plot(range(1, num_epochs + 1), train_accuracies, label='Train Accuracy')\n",
    "    plt.plot(range(1, num_epochs + 1), val_accuracies, label='Validation Accuracy')\n",
    "    plt.title('Accuracy over Epochs')\n",
    "    plt.xlabel('Epoch')\n",
    "    plt.ylabel('Accuracy')\n",
    "    plt.legend()\n",
    "\n",
    "    plt.tight_layout()\n",
    "    plt.show()\n",
    "\n",
    "    # Load the best model before returning\n",
    "    model.load_state_dict(torch.load(model_save_path))\n",
    "    return model"
   ]
  },
  {
   "cell_type": "code",
   "execution_count": 9,
   "metadata": {},
   "outputs": [
    {
     "name": "stderr",
     "output_type": "stream",
     "text": [
      "Epoch 1/50 [Training]: 100%|██████████| 217/217 [01:14<00:00,  2.92it/s]\n",
      "Epoch 1/50 [Validation]: 100%|██████████| 47/47 [00:15<00:00,  2.96it/s]\n"
     ]
    },
    {
     "name": "stdout",
     "output_type": "stream",
     "text": [
      "Epoch [1/50]\n",
      "Train Loss: 0.6855, Train Accuracy: 0.6175\n",
      "Val Loss: 0.6764, Val Accuracy: 0.6857\n",
      "Val Precision: 0.6691, Val Recall: 0.7349, Val F1-Score: 0.7004\n",
      "Saved best model with validation recall: 0.7349\n"
     ]
    },
    {
     "name": "stderr",
     "output_type": "stream",
     "text": [
      "Epoch 2/50 [Training]: 100%|██████████| 217/217 [01:13<00:00,  2.95it/s]\n",
      "Epoch 2/50 [Validation]: 100%|██████████| 47/47 [00:15<00:00,  2.98it/s]\n"
     ]
    },
    {
     "name": "stdout",
     "output_type": "stream",
     "text": [
      "Epoch [2/50]\n",
      "Train Loss: 0.6714, Train Accuracy: 0.6648\n",
      "Val Loss: 0.6615, Val Accuracy: 0.6891\n",
      "Val Precision: 0.7178, Val Recall: 0.6231, Val F1-Score: 0.6671\n"
     ]
    },
    {
     "name": "stderr",
     "output_type": "stream",
     "text": [
      "Epoch 3/50 [Training]: 100%|██████████| 217/217 [01:13<00:00,  2.96it/s]\n",
      "Epoch 3/50 [Validation]: 100%|██████████| 47/47 [00:15<00:00,  3.07it/s]\n"
     ]
    },
    {
     "name": "stdout",
     "output_type": "stream",
     "text": [
      "Epoch [3/50]\n",
      "Train Loss: 0.6614, Train Accuracy: 0.6589\n",
      "Val Loss: 0.6554, Val Accuracy: 0.6763\n",
      "Val Precision: 0.6675, Val Recall: 0.7026, Val F1-Score: 0.6846\n"
     ]
    },
    {
     "name": "stderr",
     "output_type": "stream",
     "text": [
      "Epoch 4/50 [Training]: 100%|██████████| 217/217 [01:11<00:00,  3.04it/s]\n",
      "Epoch 4/50 [Validation]: 100%|██████████| 47/47 [00:15<00:00,  3.07it/s]\n"
     ]
    },
    {
     "name": "stdout",
     "output_type": "stream",
     "text": [
      "Epoch [4/50]\n",
      "Train Loss: 0.6504, Train Accuracy: 0.6731\n",
      "Val Loss: 0.6407, Val Accuracy: 0.7012\n",
      "Val Precision: 0.7018, Val Recall: 0.6999, Val F1-Score: 0.7008\n"
     ]
    },
    {
     "name": "stderr",
     "output_type": "stream",
     "text": [
      "Epoch 5/50 [Training]: 100%|██████████| 217/217 [01:11<00:00,  3.05it/s]\n",
      "Epoch 5/50 [Validation]: 100%|██████████| 47/47 [00:15<00:00,  3.09it/s]\n"
     ]
    },
    {
     "name": "stdout",
     "output_type": "stream",
     "text": [
      "Epoch [5/50]\n",
      "Train Loss: 0.6418, Train Accuracy: 0.6781\n",
      "Val Loss: 0.6341, Val Accuracy: 0.6878\n",
      "Val Precision: 0.6914, Val Recall: 0.6783, Val F1-Score: 0.6848\n"
     ]
    },
    {
     "name": "stderr",
     "output_type": "stream",
     "text": [
      "Epoch 6/50 [Training]: 100%|██████████| 217/217 [01:11<00:00,  3.05it/s]\n",
      "Epoch 6/50 [Validation]: 100%|██████████| 47/47 [00:15<00:00,  3.09it/s]\n"
     ]
    },
    {
     "name": "stdout",
     "output_type": "stream",
     "text": [
      "Epoch [6/50]\n",
      "Train Loss: 0.6320, Train Accuracy: 0.6856\n",
      "Val Loss: 0.6284, Val Accuracy: 0.6938\n",
      "Val Precision: 0.7118, Val Recall: 0.6514, Val F1-Score: 0.6803\n"
     ]
    },
    {
     "name": "stderr",
     "output_type": "stream",
     "text": [
      "Epoch 7/50 [Training]: 100%|██████████| 217/217 [01:11<00:00,  3.04it/s]\n",
      "Epoch 7/50 [Validation]: 100%|██████████| 47/47 [00:15<00:00,  3.08it/s]\n"
     ]
    },
    {
     "name": "stdout",
     "output_type": "stream",
     "text": [
      "Epoch [7/50]\n",
      "Train Loss: 0.6257, Train Accuracy: 0.6917\n",
      "Val Loss: 0.6194, Val Accuracy: 0.7026\n",
      "Val Precision: 0.6962, Val Recall: 0.7187, Val F1-Score: 0.7073\n"
     ]
    },
    {
     "name": "stderr",
     "output_type": "stream",
     "text": [
      "Epoch 8/50 [Training]: 100%|██████████| 217/217 [01:10<00:00,  3.06it/s]\n",
      "Epoch 8/50 [Validation]: 100%|██████████| 47/47 [00:15<00:00,  3.06it/s]\n"
     ]
    },
    {
     "name": "stdout",
     "output_type": "stream",
     "text": [
      "Epoch [8/50]\n",
      "Train Loss: 0.6192, Train Accuracy: 0.6954\n",
      "Val Loss: 0.6145, Val Accuracy: 0.7113\n",
      "Val Precision: 0.7145, Val Recall: 0.7039, Val F1-Score: 0.7092\n"
     ]
    },
    {
     "name": "stderr",
     "output_type": "stream",
     "text": [
      "Epoch 9/50 [Training]: 100%|██████████| 217/217 [01:10<00:00,  3.07it/s]\n",
      "Epoch 9/50 [Validation]: 100%|██████████| 47/47 [00:15<00:00,  3.10it/s]\n"
     ]
    },
    {
     "name": "stdout",
     "output_type": "stream",
     "text": [
      "Epoch [9/50]\n",
      "Train Loss: 0.6144, Train Accuracy: 0.6938\n",
      "Val Loss: 0.6056, Val Accuracy: 0.7140\n",
      "Val Precision: 0.7154, Val Recall: 0.7106, Val F1-Score: 0.7130\n"
     ]
    },
    {
     "name": "stderr",
     "output_type": "stream",
     "text": [
      "Epoch 10/50 [Training]: 100%|██████████| 217/217 [01:10<00:00,  3.06it/s]\n",
      "Epoch 10/50 [Validation]: 100%|██████████| 47/47 [00:15<00:00,  3.10it/s]\n"
     ]
    },
    {
     "name": "stdout",
     "output_type": "stream",
     "text": [
      "Epoch [10/50]\n",
      "Train Loss: 0.6072, Train Accuracy: 0.7095\n",
      "Val Loss: 0.6044, Val Accuracy: 0.7153\n",
      "Val Precision: 0.7122, Val Recall: 0.7227, Val F1-Score: 0.7174\n"
     ]
    },
    {
     "name": "stderr",
     "output_type": "stream",
     "text": [
      "Epoch 11/50 [Training]: 100%|██████████| 217/217 [01:10<00:00,  3.06it/s]\n",
      "Epoch 11/50 [Validation]: 100%|██████████| 47/47 [00:15<00:00,  3.08it/s]\n"
     ]
    },
    {
     "name": "stdout",
     "output_type": "stream",
     "text": [
      "Epoch [11/50]\n",
      "Train Loss: 0.6035, Train Accuracy: 0.7107\n",
      "Val Loss: 0.6019, Val Accuracy: 0.7133\n",
      "Val Precision: 0.7077, Val Recall: 0.7268, Val F1-Score: 0.7171\n"
     ]
    },
    {
     "name": "stderr",
     "output_type": "stream",
     "text": [
      "Epoch 12/50 [Training]: 100%|██████████| 217/217 [01:11<00:00,  3.05it/s]\n",
      "Epoch 12/50 [Validation]: 100%|██████████| 47/47 [00:15<00:00,  3.11it/s]\n"
     ]
    },
    {
     "name": "stdout",
     "output_type": "stream",
     "text": [
      "Epoch [12/50]\n",
      "Train Loss: 0.5950, Train Accuracy: 0.7201\n",
      "Val Loss: 0.5946, Val Accuracy: 0.7288\n",
      "Val Precision: 0.7196, Val Recall: 0.7497, Val F1-Score: 0.7343\n",
      "Saved best model with validation recall: 0.7497\n"
     ]
    },
    {
     "name": "stderr",
     "output_type": "stream",
     "text": [
      "Epoch 13/50 [Training]: 100%|██████████| 217/217 [01:11<00:00,  3.05it/s]\n",
      "Epoch 13/50 [Validation]: 100%|██████████| 47/47 [00:15<00:00,  3.11it/s]\n"
     ]
    },
    {
     "name": "stdout",
     "output_type": "stream",
     "text": [
      "Epoch [13/50]\n",
      "Train Loss: 0.5945, Train Accuracy: 0.7121\n",
      "Val Loss: 0.5857, Val Accuracy: 0.7315\n",
      "Val Precision: 0.7402, Val Recall: 0.7133, Val F1-Score: 0.7265\n"
     ]
    },
    {
     "name": "stderr",
     "output_type": "stream",
     "text": [
      "Epoch 14/50 [Training]: 100%|██████████| 217/217 [01:11<00:00,  3.05it/s]\n",
      "Epoch 14/50 [Validation]: 100%|██████████| 47/47 [00:15<00:00,  3.08it/s]\n"
     ]
    },
    {
     "name": "stdout",
     "output_type": "stream",
     "text": [
      "Epoch [14/50]\n",
      "Train Loss: 0.5888, Train Accuracy: 0.7163\n",
      "Val Loss: 0.5804, Val Accuracy: 0.7376\n",
      "Val Precision: 0.7448, Val Recall: 0.7227, Val F1-Score: 0.7336\n"
     ]
    },
    {
     "name": "stderr",
     "output_type": "stream",
     "text": [
      "Epoch 15/50 [Training]: 100%|██████████| 217/217 [01:11<00:00,  3.05it/s]\n",
      "Epoch 15/50 [Validation]: 100%|██████████| 47/47 [00:15<00:00,  3.09it/s]\n"
     ]
    },
    {
     "name": "stdout",
     "output_type": "stream",
     "text": [
      "Epoch [15/50]\n",
      "Train Loss: 0.5809, Train Accuracy: 0.7293\n",
      "Val Loss: 0.5732, Val Accuracy: 0.7550\n",
      "Val Precision: 0.7599, Val Recall: 0.7456, Val F1-Score: 0.7527\n"
     ]
    },
    {
     "name": "stderr",
     "output_type": "stream",
     "text": [
      "Epoch 16/50 [Training]: 100%|██████████| 217/217 [01:11<00:00,  3.05it/s]\n",
      "Epoch 16/50 [Validation]: 100%|██████████| 47/47 [00:15<00:00,  3.10it/s]\n"
     ]
    },
    {
     "name": "stdout",
     "output_type": "stream",
     "text": [
      "Epoch [16/50]\n",
      "Train Loss: 0.5780, Train Accuracy: 0.7329\n",
      "Val Loss: 0.5717, Val Accuracy: 0.7308\n",
      "Val Precision: 0.7236, Val Recall: 0.7470, Val F1-Score: 0.7351\n"
     ]
    },
    {
     "name": "stderr",
     "output_type": "stream",
     "text": [
      "Epoch 17/50 [Training]: 100%|██████████| 217/217 [01:11<00:00,  3.05it/s]\n",
      "Epoch 17/50 [Validation]: 100%|██████████| 47/47 [00:15<00:00,  3.08it/s]\n"
     ]
    },
    {
     "name": "stdout",
     "output_type": "stream",
     "text": [
      "Epoch [17/50]\n",
      "Train Loss: 0.5763, Train Accuracy: 0.7282\n",
      "Val Loss: 0.5688, Val Accuracy: 0.7416\n",
      "Val Precision: 0.7462, Val Recall: 0.7322, Val F1-Score: 0.7391\n"
     ]
    },
    {
     "name": "stderr",
     "output_type": "stream",
     "text": [
      "Epoch 18/50 [Training]: 100%|██████████| 217/217 [01:10<00:00,  3.07it/s]\n",
      "Epoch 18/50 [Validation]: 100%|██████████| 47/47 [00:15<00:00,  3.05it/s]\n"
     ]
    },
    {
     "name": "stdout",
     "output_type": "stream",
     "text": [
      "Epoch [18/50]\n",
      "Train Loss: 0.5698, Train Accuracy: 0.7375\n",
      "Val Loss: 0.5623, Val Accuracy: 0.7618\n",
      "Val Precision: 0.7632, Val Recall: 0.7591, Val F1-Score: 0.7611\n",
      "Saved best model with validation recall: 0.7591\n"
     ]
    },
    {
     "name": "stderr",
     "output_type": "stream",
     "text": [
      "Epoch 19/50 [Training]: 100%|██████████| 217/217 [01:10<00:00,  3.06it/s]\n",
      "Epoch 19/50 [Validation]: 100%|██████████| 47/47 [00:15<00:00,  3.09it/s]\n"
     ]
    },
    {
     "name": "stdout",
     "output_type": "stream",
     "text": [
      "Epoch [19/50]\n",
      "Train Loss: 0.5664, Train Accuracy: 0.7404\n",
      "Val Loss: 0.5583, Val Accuracy: 0.7571\n",
      "Val Precision: 0.7493, Val Recall: 0.7725, Val F1-Score: 0.7608\n",
      "Saved best model with validation recall: 0.7725\n"
     ]
    },
    {
     "name": "stderr",
     "output_type": "stream",
     "text": [
      "Epoch 20/50 [Training]: 100%|██████████| 217/217 [01:11<00:00,  3.05it/s]\n",
      "Epoch 20/50 [Validation]: 100%|██████████| 47/47 [00:15<00:00,  3.09it/s]\n"
     ]
    },
    {
     "name": "stdout",
     "output_type": "stream",
     "text": [
      "Epoch [20/50]\n",
      "Train Loss: 0.5593, Train Accuracy: 0.7469\n",
      "Val Loss: 0.5508, Val Accuracy: 0.7712\n",
      "Val Precision: 0.7764, Val Recall: 0.7618, Val F1-Score: 0.7690\n"
     ]
    },
    {
     "name": "stderr",
     "output_type": "stream",
     "text": [
      "Epoch 21/50 [Training]: 100%|██████████| 217/217 [01:11<00:00,  3.04it/s]\n",
      "Epoch 21/50 [Validation]: 100%|██████████| 47/47 [00:15<00:00,  3.07it/s]\n"
     ]
    },
    {
     "name": "stdout",
     "output_type": "stream",
     "text": [
      "Epoch [21/50]\n",
      "Train Loss: 0.5603, Train Accuracy: 0.7457\n",
      "Val Loss: 0.5595, Val Accuracy: 0.7396\n",
      "Val Precision: 0.7392, Val Recall: 0.7402, Val F1-Score: 0.7397\n"
     ]
    },
    {
     "name": "stderr",
     "output_type": "stream",
     "text": [
      "Epoch 22/50 [Training]: 100%|██████████| 217/217 [01:11<00:00,  3.04it/s]\n",
      "Epoch 22/50 [Validation]: 100%|██████████| 47/47 [00:15<00:00,  2.97it/s]\n"
     ]
    },
    {
     "name": "stdout",
     "output_type": "stream",
     "text": [
      "Epoch [22/50]\n",
      "Train Loss: 0.5557, Train Accuracy: 0.7472\n",
      "Val Loss: 0.5500, Val Accuracy: 0.7591\n",
      "Val Precision: 0.7655, Val Recall: 0.7470, Val F1-Score: 0.7561\n"
     ]
    },
    {
     "name": "stderr",
     "output_type": "stream",
     "text": [
      "Epoch 23/50 [Training]: 100%|██████████| 217/217 [01:11<00:00,  3.04it/s]\n",
      "Epoch 23/50 [Validation]: 100%|██████████| 47/47 [00:15<00:00,  3.05it/s]\n"
     ]
    },
    {
     "name": "stdout",
     "output_type": "stream",
     "text": [
      "Epoch [23/50]\n",
      "Train Loss: 0.5536, Train Accuracy: 0.7463\n",
      "Val Loss: 0.5431, Val Accuracy: 0.7793\n",
      "Val Precision: 0.7734, Val Recall: 0.7900, Val F1-Score: 0.7816\n",
      "Saved best model with validation recall: 0.7900\n"
     ]
    },
    {
     "name": "stderr",
     "output_type": "stream",
     "text": [
      "Epoch 24/50 [Training]: 100%|██████████| 217/217 [01:11<00:00,  3.05it/s]\n",
      "Epoch 24/50 [Validation]: 100%|██████████| 47/47 [00:15<00:00,  3.11it/s]\n"
     ]
    },
    {
     "name": "stdout",
     "output_type": "stream",
     "text": [
      "Epoch [24/50]\n",
      "Train Loss: 0.5517, Train Accuracy: 0.7463\n",
      "Val Loss: 0.5433, Val Accuracy: 0.7699\n",
      "Val Precision: 0.7670, Val Recall: 0.7752, Val F1-Score: 0.7711\n"
     ]
    },
    {
     "name": "stderr",
     "output_type": "stream",
     "text": [
      "Epoch 25/50 [Training]: 100%|██████████| 217/217 [01:10<00:00,  3.06it/s]\n",
      "Epoch 25/50 [Validation]: 100%|██████████| 47/47 [00:15<00:00,  3.09it/s]\n"
     ]
    },
    {
     "name": "stdout",
     "output_type": "stream",
     "text": [
      "Epoch [25/50]\n",
      "Train Loss: 0.5444, Train Accuracy: 0.7564\n",
      "Val Loss: 0.5483, Val Accuracy: 0.7577\n",
      "Val Precision: 0.7503, Val Recall: 0.7725, Val F1-Score: 0.7613\n"
     ]
    },
    {
     "name": "stderr",
     "output_type": "stream",
     "text": [
      "Epoch 26/50 [Training]: 100%|██████████| 217/217 [01:10<00:00,  3.08it/s]\n",
      "Epoch 26/50 [Validation]: 100%|██████████| 47/47 [00:15<00:00,  3.12it/s]\n"
     ]
    },
    {
     "name": "stdout",
     "output_type": "stream",
     "text": [
      "Epoch [26/50]\n",
      "Train Loss: 0.5431, Train Accuracy: 0.7544\n",
      "Val Loss: 0.5360, Val Accuracy: 0.7672\n",
      "Val Precision: 0.7708, Val Recall: 0.7604, Val F1-Score: 0.7656\n"
     ]
    },
    {
     "name": "stderr",
     "output_type": "stream",
     "text": [
      "Epoch 27/50 [Training]: 100%|██████████| 217/217 [01:10<00:00,  3.07it/s]\n",
      "Epoch 27/50 [Validation]: 100%|██████████| 47/47 [00:15<00:00,  3.08it/s]\n"
     ]
    },
    {
     "name": "stdout",
     "output_type": "stream",
     "text": [
      "Epoch [27/50]\n",
      "Train Loss: 0.5388, Train Accuracy: 0.7641\n",
      "Val Loss: 0.5308, Val Accuracy: 0.7793\n",
      "Val Precision: 0.7720, Val Recall: 0.7927, Val F1-Score: 0.7822\n",
      "Saved best model with validation recall: 0.7927\n"
     ]
    },
    {
     "name": "stderr",
     "output_type": "stream",
     "text": [
      "Epoch 28/50 [Training]: 100%|██████████| 217/217 [01:10<00:00,  3.07it/s]\n",
      "Epoch 28/50 [Validation]: 100%|██████████| 47/47 [00:15<00:00,  3.11it/s]\n"
     ]
    },
    {
     "name": "stdout",
     "output_type": "stream",
     "text": [
      "Epoch [28/50]\n",
      "Train Loss: 0.5396, Train Accuracy: 0.7551\n",
      "Val Loss: 0.5346, Val Accuracy: 0.7752\n",
      "Val Precision: 0.7828, Val Recall: 0.7618, Val F1-Score: 0.7722\n"
     ]
    },
    {
     "name": "stderr",
     "output_type": "stream",
     "text": [
      "Epoch 29/50 [Training]: 100%|██████████| 217/217 [01:10<00:00,  3.07it/s]\n",
      "Epoch 29/50 [Validation]: 100%|██████████| 47/47 [00:15<00:00,  3.10it/s]\n"
     ]
    },
    {
     "name": "stdout",
     "output_type": "stream",
     "text": [
      "Epoch [29/50]\n",
      "Train Loss: 0.5334, Train Accuracy: 0.7626\n",
      "Val Loss: 0.5318, Val Accuracy: 0.7651\n",
      "Val Precision: 0.7592, Val Recall: 0.7766, Val F1-Score: 0.7678\n"
     ]
    },
    {
     "name": "stderr",
     "output_type": "stream",
     "text": [
      "Epoch 30/50 [Training]: 100%|██████████| 217/217 [01:10<00:00,  3.06it/s]\n",
      "Epoch 30/50 [Validation]: 100%|██████████| 47/47 [00:15<00:00,  3.10it/s]\n"
     ]
    },
    {
     "name": "stdout",
     "output_type": "stream",
     "text": [
      "Epoch [30/50]\n",
      "Train Loss: 0.5293, Train Accuracy: 0.7642\n",
      "Val Loss: 0.5265, Val Accuracy: 0.7773\n",
      "Val Precision: 0.7655, Val Recall: 0.7995, Val F1-Score: 0.7821\n",
      "Saved best model with validation recall: 0.7995\n"
     ]
    },
    {
     "name": "stderr",
     "output_type": "stream",
     "text": [
      "Epoch 31/50 [Training]: 100%|██████████| 217/217 [01:10<00:00,  3.08it/s]\n",
      "Epoch 31/50 [Validation]: 100%|██████████| 47/47 [00:15<00:00,  3.12it/s]\n"
     ]
    },
    {
     "name": "stdout",
     "output_type": "stream",
     "text": [
      "Epoch [31/50]\n",
      "Train Loss: 0.5295, Train Accuracy: 0.7674\n",
      "Val Loss: 0.5296, Val Accuracy: 0.7678\n",
      "Val Precision: 0.7618, Val Recall: 0.7793, Val F1-Score: 0.7705\n"
     ]
    },
    {
     "name": "stderr",
     "output_type": "stream",
     "text": [
      "Epoch 32/50 [Training]: 100%|██████████| 217/217 [01:10<00:00,  3.08it/s]\n",
      "Epoch 32/50 [Validation]: 100%|██████████| 47/47 [00:15<00:00,  3.02it/s]\n"
     ]
    },
    {
     "name": "stdout",
     "output_type": "stream",
     "text": [
      "Epoch [32/50]\n",
      "Train Loss: 0.5296, Train Accuracy: 0.7659\n",
      "Val Loss: 0.5289, Val Accuracy: 0.7705\n",
      "Val Precision: 0.7709, Val Recall: 0.7699, Val F1-Score: 0.7704\n"
     ]
    },
    {
     "name": "stderr",
     "output_type": "stream",
     "text": [
      "Epoch 33/50 [Training]: 100%|██████████| 217/217 [01:10<00:00,  3.08it/s]\n",
      "Epoch 33/50 [Validation]: 100%|██████████| 47/47 [00:15<00:00,  3.07it/s]\n"
     ]
    },
    {
     "name": "stdout",
     "output_type": "stream",
     "text": [
      "Epoch [33/50]\n",
      "Train Loss: 0.5194, Train Accuracy: 0.7778\n",
      "Val Loss: 0.5183, Val Accuracy: 0.7799\n",
      "Val Precision: 0.7708, Val Recall: 0.7968, Val F1-Score: 0.7836\n"
     ]
    },
    {
     "name": "stderr",
     "output_type": "stream",
     "text": [
      "Epoch 34/50 [Training]: 100%|██████████| 217/217 [01:11<00:00,  3.04it/s]\n",
      "Epoch 34/50 [Validation]: 100%|██████████| 47/47 [00:15<00:00,  3.06it/s]\n"
     ]
    },
    {
     "name": "stdout",
     "output_type": "stream",
     "text": [
      "Epoch [34/50]\n",
      "Train Loss: 0.5221, Train Accuracy: 0.7708\n",
      "Val Loss: 0.5122, Val Accuracy: 0.7840\n",
      "Val Precision: 0.7972, Val Recall: 0.7618, Val F1-Score: 0.7791\n"
     ]
    },
    {
     "name": "stderr",
     "output_type": "stream",
     "text": [
      "Epoch 35/50 [Training]: 100%|██████████| 217/217 [01:11<00:00,  3.02it/s]\n",
      "Epoch 35/50 [Validation]: 100%|██████████| 47/47 [00:15<00:00,  3.06it/s]\n"
     ]
    },
    {
     "name": "stdout",
     "output_type": "stream",
     "text": [
      "Epoch [35/50]\n",
      "Train Loss: 0.5230, Train Accuracy: 0.7664\n",
      "Val Loss: 0.5164, Val Accuracy: 0.7672\n",
      "Val Precision: 0.7686, Val Recall: 0.7645, Val F1-Score: 0.7665\n"
     ]
    },
    {
     "name": "stderr",
     "output_type": "stream",
     "text": [
      "Epoch 36/50 [Training]: 100%|██████████| 217/217 [01:12<00:00,  3.00it/s]\n",
      "Epoch 36/50 [Validation]: 100%|██████████| 47/47 [00:15<00:00,  3.10it/s]\n"
     ]
    },
    {
     "name": "stdout",
     "output_type": "stream",
     "text": [
      "Epoch [36/50]\n",
      "Train Loss: 0.5155, Train Accuracy: 0.7798\n",
      "Val Loss: 0.5142, Val Accuracy: 0.7779\n",
      "Val Precision: 0.7880, Val Recall: 0.7604, Val F1-Score: 0.7740\n"
     ]
    },
    {
     "name": "stderr",
     "output_type": "stream",
     "text": [
      "Epoch 37/50 [Training]: 100%|██████████| 217/217 [01:12<00:00,  2.98it/s]\n",
      "Epoch 37/50 [Validation]: 100%|██████████| 47/47 [00:15<00:00,  3.12it/s]\n"
     ]
    },
    {
     "name": "stdout",
     "output_type": "stream",
     "text": [
      "Epoch [37/50]\n",
      "Train Loss: 0.5187, Train Accuracy: 0.7698\n",
      "Val Loss: 0.5153, Val Accuracy: 0.7826\n",
      "Val Precision: 0.7800, Val Recall: 0.7873, Val F1-Score: 0.7837\n"
     ]
    },
    {
     "name": "stderr",
     "output_type": "stream",
     "text": [
      "Epoch 38/50 [Training]: 100%|██████████| 217/217 [01:10<00:00,  3.06it/s]\n",
      "Epoch 38/50 [Validation]: 100%|██████████| 47/47 [00:15<00:00,  3.08it/s]\n"
     ]
    },
    {
     "name": "stdout",
     "output_type": "stream",
     "text": [
      "Epoch [38/50]\n",
      "Train Loss: 0.5154, Train Accuracy: 0.7714\n",
      "Val Loss: 0.5076, Val Accuracy: 0.7934\n",
      "Val Precision: 0.7962, Val Recall: 0.7887, Val F1-Score: 0.7924\n"
     ]
    },
    {
     "name": "stderr",
     "output_type": "stream",
     "text": [
      "Epoch 39/50 [Training]: 100%|██████████| 217/217 [01:10<00:00,  3.08it/s]\n",
      "Epoch 39/50 [Validation]: 100%|██████████| 47/47 [00:15<00:00,  3.09it/s]\n"
     ]
    },
    {
     "name": "stdout",
     "output_type": "stream",
     "text": [
      "Epoch [39/50]\n",
      "Train Loss: 0.5132, Train Accuracy: 0.7768\n",
      "Val Loss: 0.4975, Val Accuracy: 0.7968\n",
      "Val Precision: 0.7921, Val Recall: 0.8048, Val F1-Score: 0.7984\n",
      "Saved best model with validation recall: 0.8048\n"
     ]
    },
    {
     "name": "stderr",
     "output_type": "stream",
     "text": [
      "Epoch 40/50 [Training]: 100%|██████████| 217/217 [01:11<00:00,  3.03it/s]\n",
      "Epoch 40/50 [Validation]: 100%|██████████| 47/47 [00:15<00:00,  3.11it/s]\n"
     ]
    },
    {
     "name": "stdout",
     "output_type": "stream",
     "text": [
      "Epoch [40/50]\n",
      "Train Loss: 0.5073, Train Accuracy: 0.7811\n",
      "Val Loss: 0.5078, Val Accuracy: 0.7759\n",
      "Val Precision: 0.7801, Val Recall: 0.7685, Val F1-Score: 0.7742\n"
     ]
    },
    {
     "name": "stderr",
     "output_type": "stream",
     "text": [
      "Epoch 41/50 [Training]: 100%|██████████| 217/217 [01:12<00:00,  3.01it/s]\n",
      "Epoch 41/50 [Validation]: 100%|██████████| 47/47 [00:15<00:00,  3.04it/s]\n"
     ]
    },
    {
     "name": "stdout",
     "output_type": "stream",
     "text": [
      "Epoch [41/50]\n",
      "Train Loss: 0.5061, Train Accuracy: 0.7805\n",
      "Val Loss: 0.4974, Val Accuracy: 0.7961\n",
      "Val Precision: 0.7941, Val Recall: 0.7995, Val F1-Score: 0.7968\n"
     ]
    },
    {
     "name": "stderr",
     "output_type": "stream",
     "text": [
      "Epoch 42/50 [Training]: 100%|██████████| 217/217 [01:12<00:00,  3.01it/s]\n",
      "Epoch 42/50 [Validation]: 100%|██████████| 47/47 [00:15<00:00,  3.06it/s]\n"
     ]
    },
    {
     "name": "stdout",
     "output_type": "stream",
     "text": [
      "Epoch [42/50]\n",
      "Train Loss: 0.5056, Train Accuracy: 0.7867\n",
      "Val Loss: 0.4946, Val Accuracy: 0.7988\n",
      "Val Precision: 0.7976, Val Recall: 0.8008, Val F1-Score: 0.7992\n"
     ]
    },
    {
     "name": "stderr",
     "output_type": "stream",
     "text": [
      "Epoch 43/50 [Training]: 100%|██████████| 217/217 [01:11<00:00,  3.02it/s]\n",
      "Epoch 43/50 [Validation]: 100%|██████████| 47/47 [00:15<00:00,  3.04it/s]\n"
     ]
    },
    {
     "name": "stdout",
     "output_type": "stream",
     "text": [
      "Epoch [43/50]\n",
      "Train Loss: 0.5079, Train Accuracy: 0.7772\n",
      "Val Loss: 0.4949, Val Accuracy: 0.7961\n",
      "Val Precision: 0.7997, Val Recall: 0.7900, Val F1-Score: 0.7949\n"
     ]
    },
    {
     "name": "stderr",
     "output_type": "stream",
     "text": [
      "Epoch 44/50 [Training]: 100%|██████████| 217/217 [01:12<00:00,  3.01it/s]\n",
      "Epoch 44/50 [Validation]: 100%|██████████| 47/47 [00:15<00:00,  3.03it/s]\n"
     ]
    },
    {
     "name": "stdout",
     "output_type": "stream",
     "text": [
      "Epoch [44/50]\n",
      "Train Loss: 0.4974, Train Accuracy: 0.7861\n",
      "Val Loss: 0.4914, Val Accuracy: 0.7867\n",
      "Val Precision: 0.7817, Val Recall: 0.7954, Val F1-Score: 0.7885\n"
     ]
    },
    {
     "name": "stderr",
     "output_type": "stream",
     "text": [
      "Epoch 45/50 [Training]: 100%|██████████| 217/217 [01:11<00:00,  3.01it/s]\n",
      "Epoch 45/50 [Validation]: 100%|██████████| 47/47 [00:15<00:00,  3.04it/s]\n"
     ]
    },
    {
     "name": "stdout",
     "output_type": "stream",
     "text": [
      "Epoch [45/50]\n",
      "Train Loss: 0.4966, Train Accuracy: 0.7893\n",
      "Val Loss: 0.5055, Val Accuracy: 0.7766\n",
      "Val Precision: 0.7729, Val Recall: 0.7833, Val F1-Score: 0.7781\n"
     ]
    },
    {
     "name": "stderr",
     "output_type": "stream",
     "text": [
      "Epoch 46/50 [Training]: 100%|██████████| 217/217 [01:11<00:00,  3.02it/s]\n",
      "Epoch 46/50 [Validation]: 100%|██████████| 47/47 [00:15<00:00,  3.06it/s]\n"
     ]
    },
    {
     "name": "stdout",
     "output_type": "stream",
     "text": [
      "Epoch [46/50]\n",
      "Train Loss: 0.4989, Train Accuracy: 0.7868\n",
      "Val Loss: 0.4895, Val Accuracy: 0.7907\n",
      "Val Precision: 0.7888, Val Recall: 0.7941, Val F1-Score: 0.7914\n"
     ]
    },
    {
     "name": "stderr",
     "output_type": "stream",
     "text": [
      "Epoch 47/50 [Training]: 100%|██████████| 217/217 [01:11<00:00,  3.01it/s]\n",
      "Epoch 47/50 [Validation]: 100%|██████████| 47/47 [00:15<00:00,  3.06it/s]\n"
     ]
    },
    {
     "name": "stdout",
     "output_type": "stream",
     "text": [
      "Epoch [47/50]\n",
      "Train Loss: 0.4974, Train Accuracy: 0.7855\n",
      "Val Loss: 0.4897, Val Accuracy: 0.8129\n",
      "Val Precision: 0.8181, Val Recall: 0.8048, Val F1-Score: 0.8114\n"
     ]
    },
    {
     "name": "stderr",
     "output_type": "stream",
     "text": [
      "Epoch 48/50 [Training]: 100%|██████████| 217/217 [01:11<00:00,  3.02it/s]\n",
      "Epoch 48/50 [Validation]: 100%|██████████| 47/47 [00:15<00:00,  3.06it/s]\n"
     ]
    },
    {
     "name": "stdout",
     "output_type": "stream",
     "text": [
      "Epoch [48/50]\n",
      "Train Loss: 0.4941, Train Accuracy: 0.7893\n",
      "Val Loss: 0.4930, Val Accuracy: 0.7887\n",
      "Val Precision: 0.7895, Val Recall: 0.7873, Val F1-Score: 0.7884\n"
     ]
    },
    {
     "name": "stderr",
     "output_type": "stream",
     "text": [
      "Epoch 49/50 [Training]: 100%|██████████| 217/217 [01:12<00:00,  3.00it/s]\n",
      "Epoch 49/50 [Validation]: 100%|██████████| 47/47 [00:15<00:00,  3.03it/s]\n"
     ]
    },
    {
     "name": "stdout",
     "output_type": "stream",
     "text": [
      "Epoch [49/50]\n",
      "Train Loss: 0.4910, Train Accuracy: 0.7922\n",
      "Val Loss: 0.4877, Val Accuracy: 0.7894\n",
      "Val Precision: 0.8063, Val Recall: 0.7618, Val F1-Score: 0.7834\n"
     ]
    },
    {
     "name": "stderr",
     "output_type": "stream",
     "text": [
      "Epoch 50/50 [Training]: 100%|██████████| 217/217 [01:12<00:00,  3.00it/s]\n",
      "Epoch 50/50 [Validation]: 100%|██████████| 47/47 [00:15<00:00,  3.04it/s]\n"
     ]
    },
    {
     "name": "stdout",
     "output_type": "stream",
     "text": [
      "Epoch [50/50]\n",
      "Train Loss: 0.4930, Train Accuracy: 0.7831\n",
      "Val Loss: 0.4824, Val Accuracy: 0.8048\n",
      "Val Precision: 0.7908, Val Recall: 0.8291, Val F1-Score: 0.8095\n",
      "Saved best model with validation recall: 0.8291\n"
     ]
    },
    {
     "data": {
      "image/png": "[encoded data removed]",
      "text/plain": [
       "<Figure size 1200x500 with 2 Axes>"
      ]
     },
     "metadata": {},
     "output_type": "display_data"
    }
   ],
   "source": [
    "trained_model = train_model(model, train_loader, val_loader, device, num_epochs=50, lr=1e-5, model_save_path='best_vit_model.pth')"
   ]
  },
  {
   "cell_type": "code",
   "execution_count": null,
   "metadata": {},
   "outputs": [],
   "source": []
  }
 ],
 "metadata": {
  "kernelspec": {
   "display_name": "Python 3",
   "language": "python",
   "name": "python3"
  },
  "language_info": {
   "codemirror_mode": {
    "name": "ipython",
    "version": 3
   },
   "file_extension": ".py",
   "mimetype": "text/x-python",
   "name": "python",
   "nbconvert_exporter": "python",
   "pygments_lexer": "ipython3",
   "version": "3.11.2"
  }
 },
 "nbformat": 4,
 "nbformat_minor": 2
}
